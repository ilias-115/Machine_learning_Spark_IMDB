{
  "nbformat": 4,
  "nbformat_minor": 0,
  "metadata": {
    "application/vnd.databricks.v1+notebook": {
      "notebookName": "Spark-RDD-2021_solutions",
      "dashboards": [],
      "notebookMetadata": {
        "pythonIndentUnit": 2
      },
      "language": "python",
      "widgets": {},
      "notebookOrigID": 2832703719774903
    },
    "colab": {
      "name": "Projet_ML_Aaguida_Selvachandran.ipynb",
      "provenance": [],
      "collapsed_sections": [
        "yLgh6lvNxxPP",
        "levNDESpS1hT",
        "NtjUaom1_2bC",
        "DAVZ8PbIUtfb",
        "a4Pb-x_qi9sG",
        "W5cVjoUcneo-",
        "ViYBUUkXFACL",
        "x3jCCgH1uHZd",
        "KyYKSe2beolW",
        "QwqiRPPFrMqK",
        "nuuLSyQwrRy_",
        "eCdALwqiwi8k"
      ]
    },
    "language_info": {
      "name": "python"
    },
    "kernelspec": {
      "name": "python3",
      "display_name": "Python 3"
    }
  },
  "cells": [
    {
      "cell_type": "markdown",
      "metadata": {
        "id": "yLgh6lvNxxPP"
      },
      "source": [
        "# Introduction \n",
        "\n",
        "Ce projet a pour but d'exploiter des données réelles pour prédire une valeur choisie.\n",
        "\n",
        "La base de donnée a été importée via ce lien :     \n",
        "https://www.kaggle.com/austinreese/craigslist-carstrucks-data\n",
        "\n",
        "Le travail est composé de plusieurs étapes :\n",
        "\n",
        "\n",
        "1.   Chargement des données\n",
        "2.   Présentation/statistiques sur les données\n",
        "3.   Identification des attributs non pértinents\n",
        "4.   Création du pipeline\n",
        "5.   Choix des attributs pour la régression\n",
        "6.   Test de différents modèles de prédiction\n",
        "7.   Cross Validation\n",
        "8.   Conclusion\n",
        "\n",
        "\n",
        "\n",
        "\n",
        "\n",
        "\n"
      ]
    },
    {
      "cell_type": "markdown",
      "metadata": {
        "application/vnd.databricks.v1+cell": {
          "title": "",
          "showTitle": false,
          "inputWidgets": {},
          "nuid": "b15737ae-19bd-4b9f-b9f3-52388cc5e50e"
        },
        "id": "levNDESpS1hT"
      },
      "source": [
        "\n",
        "\n",
        "## Préparation"
      ]
    },
    {
      "cell_type": "markdown",
      "metadata": {
        "application/vnd.databricks.v1+cell": {
          "title": "",
          "showTitle": false,
          "inputWidgets": {},
          "nuid": "b6afe82e-35d6-4358-9b79-8f56074e0908"
        },
        "id": "4pZBsez9S1hT"
      },
      "source": [
        "Vérifier que des ressources de calcul sont allouées à votre notebook est connecté (cf RAM  de disque indiqués en haut à droite) . Sinon cliquer sur le bouton connecter pour obtenir des ressources.\n",
        "\n",
        "\n"
      ]
    },
    {
      "cell_type": "markdown",
      "metadata": {
        "id": "CEjerqQ6Ink6"
      },
      "source": [
        "Pour accéder directement aux fichiers stockées sur votre google drive. Renseigner le code d'authentification lorsqu'il est demandé\n",
        "\n",
        "Ajuster le nom de votre dossier : MyDrive/ens/bdle/dir. **Remplacer dir **"
      ]
    },
    {
      "cell_type": "code",
      "metadata": {
        "id": "g7Dv93rsImuM",
        "colab": {
          "base_uri": "https://localhost:8080/"
        },
        "outputId": "cae84a32-91f3-4746-9d4f-bf47ed934fd9"
      },
      "source": [
        "import os\n",
        "from google.colab import drive\n",
        "drive.mount(\"/content/drive\", force_remount=True)\n",
        "\n",
        "drive_dir = \"/content/drive/MyDrive/ens/bdle/DM2/\"\n",
        "os.makedirs(drive_dir, exist_ok=True)\n",
        "os.listdir(drive_dir)"
      ],
      "execution_count": null,
      "outputs": [
        {
          "output_type": "stream",
          "name": "stdout",
          "text": [
            "Mounted at /content/drive\n"
          ]
        },
        {
          "output_type": "execute_result",
          "data": {
            "text/plain": [
              "['vehicles.csv']"
            ]
          },
          "metadata": {},
          "execution_count": 1
        }
      ]
    },
    {
      "cell_type": "markdown",
      "metadata": {
        "id": "7v9EXMl8aPZC"
      },
      "source": [
        "Installer pyspark et findspark :\n"
      ]
    },
    {
      "cell_type": "code",
      "metadata": {
        "id": "3zlwNHy1S8C2",
        "colab": {
          "base_uri": "https://localhost:8080/"
        },
        "outputId": "e3e22634-549e-499b-9a37-480920eaa773"
      },
      "source": [
        "!pip install -q pyspark\n",
        "!pip install -q findspark"
      ],
      "execution_count": null,
      "outputs": [
        {
          "output_type": "stream",
          "name": "stdout",
          "text": [
            "\u001b[K     |████████████████████████████████| 281.3 MB 43 kB/s \n",
            "\u001b[K     |████████████████████████████████| 198 kB 81.1 MB/s \n",
            "\u001b[?25h  Building wheel for pyspark (setup.py) ... \u001b[?25l\u001b[?25hdone\n"
          ]
        }
      ]
    },
    {
      "cell_type": "markdown",
      "metadata": {
        "id": "PnEmOd_zOUo0"
      },
      "source": [
        "Démarrer la session spark"
      ]
    },
    {
      "cell_type": "code",
      "metadata": {
        "id": "W0ADH0J-VW7i"
      },
      "source": [
        "import os\n",
        "# !find /usr/local -name \"pyspark\"\n",
        "os.environ[\"SPARK_HOME\"] = \"/usr/local/lib/python3.7/dist-packages/pyspark\"\n",
        "os.environ[\"JAVA_HOME\"] = \"/usr\""
      ],
      "execution_count": null,
      "outputs": []
    },
    {
      "cell_type": "code",
      "metadata": {
        "id": "Q_WxQZB7TaUC",
        "colab": {
          "base_uri": "https://localhost:8080/"
        },
        "outputId": "98b0de2f-f096-4b98-da21-c1bdcadc8b53"
      },
      "source": [
        "# Principaux import\n",
        "import findspark\n",
        "from pyspark.sql import SparkSession \n",
        "from pyspark import SparkConf  \n",
        "\n",
        "# pour les dataframe et udf\n",
        "from pyspark.sql import *  \n",
        "from pyspark.sql.functions import *\n",
        "from pyspark.sql.types import *\n",
        "from datetime import *\n",
        "\n",
        "# pour le chronomètre\n",
        "import time\n",
        "\n",
        "# initialise les variables d'environnement pour spark\n",
        "findspark.init()\n",
        "\n",
        "# Démarrage session spark \n",
        "# --------------------------\n",
        "def demarrer_spark():\n",
        "  local = \"local[*]\"\n",
        "  appName = \"TP\"\n",
        "  configLocale = SparkConf().setAppName(appName).setMaster(local).\\\n",
        "  set(\"spark.executor.memory\", \"6G\").\\\n",
        "  set(\"spark.driver.memory\",\"6G\").\\\n",
        "  set(\"spark.sql.catalogImplementation\",\"in-memory\")\n",
        "  \n",
        "  spark = SparkSession.builder.config(conf = configLocale).getOrCreate()\n",
        "  sc = spark.sparkContext\n",
        "  sc.setLogLevel(\"ERROR\")\n",
        "  \n",
        "  spark.conf.set(\"spark.sql.autoBroadcastJoinThreshold\",\"-1\")\n",
        "\n",
        "  # On ajuste l'environnement d'exécution des requêtes à la taille du cluster (4 coeurs)\n",
        "  spark.conf.set(\"spark.sql.shuffle.partitions\",\"4\")    \n",
        "  print(\"session démarrée, son id est \", sc.applicationId)\n",
        "  return spark\n",
        "spark = demarrer_spark()"
      ],
      "execution_count": null,
      "outputs": [
        {
          "output_type": "stream",
          "name": "stdout",
          "text": [
            "session démarrée, son id est  local-1637525368735\n"
          ]
        }
      ]
    },
    {
      "cell_type": "code",
      "metadata": {
        "application/vnd.databricks.v1+cell": {
          "title": "",
          "showTitle": false,
          "inputWidgets": {},
          "nuid": "852847c4-bd45-4f9c-ae8b-2c704f389cf9"
        },
        "id": "fj9pUgrmGpLe",
        "colab": {
          "base_uri": "https://localhost:8080/"
        },
        "outputId": "3e4eeaca-0794-4ba2-9cbc-a185eea0aa90"
      },
      "source": [
        "# on utilise 8 partitions au lieu de 200 par défaut\n",
        "spark.conf.set(\"spark.sql.shuffle.partitions\", \"8\")\n",
        "print(\"Nombre de partitions utilisées : \", spark.conf.get(\"spark.sql.shuffle.partitions\"))"
      ],
      "execution_count": null,
      "outputs": [
        {
          "output_type": "stream",
          "name": "stdout",
          "text": [
            "Nombre de partitions utilisées :  8\n"
          ]
        }
      ]
    },
    {
      "cell_type": "markdown",
      "metadata": {
        "application/vnd.databricks.v1+cell": {
          "title": "",
          "showTitle": false,
          "inputWidgets": {},
          "nuid": "41dd8b8e-d697-4efb-a1d2-cd34a08b3e7e"
        },
        "id": "NtjUaom1_2bC"
      },
      "source": [
        "## Data loading"
      ]
    },
    {
      "cell_type": "code",
      "metadata": {
        "id": "BtINSzui0lNm"
      },
      "source": [
        "from pyspark.ml.linalg import Vectors\n",
        "from pyspark.ml.feature import StringIndexer\n",
        "from pyspark.ml.feature import IndexToString\n",
        "from pyspark.ml.feature import OneHotEncoder\n",
        "from pyspark.ml.feature import VectorAssembler\n",
        "from pyspark.ml.feature import VectorIndexer\n",
        "from pyspark.ml import Pipeline \n",
        "from pyspark.ml.classification import DecisionTreeClassificationModel, DecisionTreeClassifier\n",
        "from pyspark.ml.tuning import CrossValidator, ParamGridBuilder"
      ],
      "execution_count": null,
      "outputs": []
    },
    {
      "cell_type": "code",
      "metadata": {
        "id": "0Pqi8F4F1WDw"
      },
      "source": [
        "vehicles =  spark.read\\\n",
        "            .format(\"csv\").option(\"header\", \"true\")\\\n",
        "            .option(\"inferSchema\", \"true\")\\\n",
        "            .load(drive_dir +\"vehicles.csv\")"
      ],
      "execution_count": null,
      "outputs": []
    },
    {
      "cell_type": "code",
      "metadata": {
        "id": "p_zRJx5w1ktY",
        "colab": {
          "base_uri": "https://localhost:8080/"
        },
        "outputId": "50dc1bbb-985e-462c-fe64-f59287c0c540"
      },
      "source": [
        "vehicles.printSchema()"
      ],
      "execution_count": null,
      "outputs": [
        {
          "output_type": "stream",
          "name": "stdout",
          "text": [
            "root\n",
            " |-- id: string (nullable = true)\n",
            " |-- url: string (nullable = true)\n",
            " |-- region: string (nullable = true)\n",
            " |-- region_url: string (nullable = true)\n",
            " |-- price: string (nullable = true)\n",
            " |-- year: string (nullable = true)\n",
            " |-- manufacturer: string (nullable = true)\n",
            " |-- model: string (nullable = true)\n",
            " |-- condition: string (nullable = true)\n",
            " |-- cylinders: string (nullable = true)\n",
            " |-- fuel: string (nullable = true)\n",
            " |-- odometer: string (nullable = true)\n",
            " |-- title_status: string (nullable = true)\n",
            " |-- transmission: string (nullable = true)\n",
            " |-- VIN: string (nullable = true)\n",
            " |-- drive: string (nullable = true)\n",
            " |-- size: string (nullable = true)\n",
            " |-- type: string (nullable = true)\n",
            " |-- paint_color: string (nullable = true)\n",
            " |-- image_url: string (nullable = true)\n",
            " |-- description: string (nullable = true)\n",
            " |-- county: string (nullable = true)\n",
            " |-- state: string (nullable = true)\n",
            " |-- lat: string (nullable = true)\n",
            " |-- long: string (nullable = true)\n",
            " |-- posting_date: string (nullable = true)\n",
            "\n"
          ]
        }
      ]
    },
    {
      "cell_type": "code",
      "metadata": {
        "id": "q_hFu3zWiGDK",
        "colab": {
          "base_uri": "https://localhost:8080/"
        },
        "outputId": "05fdcc98-4d36-4e3b-ef67-52ae32c90179"
      },
      "source": [
        "vehicles.show()"
      ],
      "execution_count": null,
      "outputs": [
        {
          "output_type": "stream",
          "name": "stdout",
          "text": [
            "+----------+--------------------+--------------------+--------------------+-----+----+------------+-----+---------+---------+----+--------+------------+------------+----+-----+----+----+-----------+---------+-----------+------+-----+----+----+------------+\n",
            "|        id|                 url|              region|          region_url|price|year|manufacturer|model|condition|cylinders|fuel|odometer|title_status|transmission| VIN|drive|size|type|paint_color|image_url|description|county|state| lat|long|posting_date|\n",
            "+----------+--------------------+--------------------+--------------------+-----+----+------------+-----+---------+---------+----+--------+------------+------------+----+-----+----+----+-----------+---------+-----------+------+-----+----+----+------------+\n",
            "|7222695916|https://prescott....|            prescott|https://prescott....| 6000|null|        null| null|     null|     null|null|    null|        null|        null|null| null|null|null|       null|     null|       null|  null|   az|null|null|        null|\n",
            "|7218891961|https://fayar.cra...|        fayetteville|https://fayar.cra...|11900|null|        null| null|     null|     null|null|    null|        null|        null|null| null|null|null|       null|     null|       null|  null|   ar|null|null|        null|\n",
            "|7221797935|https://keys.crai...|        florida keys|https://keys.crai...|21000|null|        null| null|     null|     null|null|    null|        null|        null|null| null|null|null|       null|     null|       null|  null|   fl|null|null|        null|\n",
            "|7222270760|https://worcester...|worcester / centr...|https://worcester...| 1500|null|        null| null|     null|     null|null|    null|        null|        null|null| null|null|null|       null|     null|       null|  null|   ma|null|null|        null|\n",
            "|7210384030|https://greensbor...|          greensboro|https://greensbor...| 4900|null|        null| null|     null|     null|null|    null|        null|        null|null| null|null|null|       null|     null|       null|  null|   nc|null|null|        null|\n",
            "|7222379453|https://hudsonval...|       hudson valley|https://hudsonval...| 1600|null|        null| null|     null|     null|null|    null|        null|        null|null| null|null|null|       null|     null|       null|  null|   ny|null|null|        null|\n",
            "|7221952215|https://hudsonval...|       hudson valley|https://hudsonval...| 1000|null|        null| null|     null|     null|null|    null|        null|        null|null| null|null|null|       null|     null|       null|  null|   ny|null|null|        null|\n",
            "|7220195662|https://hudsonval...|       hudson valley|https://hudsonval...|15995|null|        null| null|     null|     null|null|    null|        null|        null|null| null|null|null|       null|     null|       null|  null|   ny|null|null|        null|\n",
            "|7209064557|https://medford.c...|     medford-ashland|https://medford.c...| 5000|null|        null| null|     null|     null|null|    null|        null|        null|null| null|null|null|       null|     null|       null|  null|   or|null|null|        null|\n",
            "|7219485069|https://erie.crai...|                erie|https://erie.crai...| 3000|null|        null| null|     null|     null|null|    null|        null|        null|null| null|null|null|       null|     null|       null|  null|   pa|null|null|        null|\n",
            "|7218893038|https://elpaso.cr...|             el paso|https://elpaso.cr...|    0|null|        null| null|     null|     null|null|    null|        null|        null|null| null|null|null|       null|     null|       null|  null|   tx|null|null|        null|\n",
            "|7218325704|https://elpaso.cr...|             el paso|https://elpaso.cr...|    0|null|        null| null|     null|     null|null|    null|        null|        null|null| null|null|null|       null|     null|       null|  null|   tx|null|null|        null|\n",
            "|7217788283|https://elpaso.cr...|             el paso|https://elpaso.cr...|    0|null|        null| null|     null|     null|null|    null|        null|        null|null| null|null|null|       null|     null|       null|  null|   tx|null|null|        null|\n",
            "|7217147606|https://elpaso.cr...|             el paso|https://elpaso.cr...|    0|null|        null| null|     null|     null|null|    null|        null|        null|null| null|null|null|       null|     null|       null|  null|   tx|null|null|        null|\n",
            "|7209027818|https://elpaso.cr...|             el paso|https://elpaso.cr...|    0|null|        null| null|     null|     null|null|    null|        null|        null|null| null|null|null|       null|     null|       null|  null|   tx|null|null|        null|\n",
            "|7223509794|https://bellingha...|          bellingham|https://bellingha...|13995|null|        null| null|     null|     null|null|    null|        null|        null|null| null|null|null|       null|     null|       null|  null|   wa|null|null|        null|\n",
            "|7222753076|https://bellingha...|          bellingham|https://bellingha...|24999|null|        null| null|     null|     null|null|    null|        null|        null|null| null|null|null|       null|     null|       null|  null|   wa|null|null|        null|\n",
            "|7222206015|https://bellingha...|          bellingham|https://bellingha...|21850|null|        null| null|     null|     null|null|    null|        null|        null|null| null|null|null|       null|     null|       null|  null|   wa|null|null|        null|\n",
            "|7220030122|https://bellingha...|          bellingham|https://bellingha...|26850|null|        null| null|     null|     null|null|    null|        null|        null|null| null|null|null|       null|     null|       null|  null|   wa|null|null|        null|\n",
            "|7218423006|https://bellingha...|          bellingham|https://bellingha...|11999|null|        null| null|     null|     null|null|    null|        null|        null|null| null|null|null|       null|     null|       null|  null|   wa|null|null|        null|\n",
            "+----------+--------------------+--------------------+--------------------+-----+----+------------+-----+---------+---------+----+--------+------------+------------+----+-----+----+----+-----------+---------+-----------+------+-----+----+----+------------+\n",
            "only showing top 20 rows\n",
            "\n"
          ]
        }
      ]
    },
    {
      "cell_type": "code",
      "metadata": {
        "id": "X-x2KqlZb2U2"
      },
      "source": [
        "df = vehicles.withColumn(\"id\", col(\"id\").cast('string'))\\\n",
        "             .withColumn(\"url\", col(\"url\").cast('string'))\\\n",
        "             .withColumn(\"region\", col(\"region\").cast('string'))\\\n",
        "             .withColumn(\"region_url\", col(\"region_url\").cast('string'))\\\n",
        "             .withColumn(\"label\", col(\"price\").cast('int'))\\\n",
        "             .withColumn(\"year\", col(\"year\").cast('string'))\\\n",
        "             .withColumn(\"manufacturer\", col(\"manufacturer\").cast('string'))\\\n",
        "             .withColumn(\"model\", col(\"model\").cast('string'))\\\n",
        "             .withColumn(\"condition\", col(\"condition\").cast('string'))\\\n",
        "             .withColumn(\"cylinders\", col(\"cylinders\").cast('string'))\\\n",
        "             .withColumn(\"fuel\", col(\"fuel\").cast('string'))\\\n",
        "             .withColumn(\"odometer\", col(\"odometer\").cast('int'))\\\n",
        "             .withColumn(\"title_status\", col(\"title_status\").cast('string'))\\\n",
        "             .withColumn(\"transmission\", col(\"transmission\").cast('string'))\\\n",
        "             .withColumn(\"VIN\", col(\"VIN\").cast('string'))\\\n",
        "             .withColumn(\"drive\", col(\"drive\").cast('string'))\\\n",
        "             .withColumn(\"size\", col(\"size\").cast('string'))\\\n",
        "             .withColumn(\"type\", col(\"type\").cast('string'))\\\n",
        "             .withColumn(\"paint_color\", col(\"paint_color\").cast('string'))\\\n",
        "             .withColumn(\"image_url\", col(\"image_url\").cast('string'))\\\n",
        "             .withColumn(\"description\", col(\"description\").cast('string'))\\\n",
        "             .withColumn(\"county\", col(\"county\").cast('string'))\\\n",
        "             .withColumn(\"state\", col(\"state\").cast('string'))\\\n",
        "             .withColumn(\"lat\", col(\"lat\").cast('double'))\\\n",
        "             .withColumn(\"long\", col(\"long\").cast('double'))\\\n",
        "             .withColumn(\"posting_date\", col(\"posting_date\").cast('string'))"
      ],
      "execution_count": null,
      "outputs": []
    },
    {
      "cell_type": "code",
      "metadata": {
        "id": "eEk16JZblVjV",
        "colab": {
          "base_uri": "https://localhost:8080/"
        },
        "outputId": "a7b3c668-02df-427d-f2c7-016f0b9062a4"
      },
      "source": [
        "df.printSchema()"
      ],
      "execution_count": null,
      "outputs": [
        {
          "output_type": "stream",
          "name": "stdout",
          "text": [
            "root\n",
            " |-- id: string (nullable = true)\n",
            " |-- url: string (nullable = true)\n",
            " |-- region: string (nullable = true)\n",
            " |-- region_url: string (nullable = true)\n",
            " |-- price: string (nullable = true)\n",
            " |-- year: string (nullable = true)\n",
            " |-- manufacturer: string (nullable = true)\n",
            " |-- model: string (nullable = true)\n",
            " |-- condition: string (nullable = true)\n",
            " |-- cylinders: string (nullable = true)\n",
            " |-- fuel: string (nullable = true)\n",
            " |-- odometer: integer (nullable = true)\n",
            " |-- title_status: string (nullable = true)\n",
            " |-- transmission: string (nullable = true)\n",
            " |-- VIN: string (nullable = true)\n",
            " |-- drive: string (nullable = true)\n",
            " |-- size: string (nullable = true)\n",
            " |-- type: string (nullable = true)\n",
            " |-- paint_color: string (nullable = true)\n",
            " |-- image_url: string (nullable = true)\n",
            " |-- description: string (nullable = true)\n",
            " |-- county: string (nullable = true)\n",
            " |-- state: string (nullable = true)\n",
            " |-- lat: double (nullable = true)\n",
            " |-- long: double (nullable = true)\n",
            " |-- posting_date: string (nullable = true)\n",
            " |-- label: integer (nullable = true)\n",
            "\n"
          ]
        }
      ]
    },
    {
      "cell_type": "markdown",
      "metadata": {
        "id": "DAVZ8PbIUtfb"
      },
      "source": [
        "# Statistiques sur les données"
      ]
    },
    {
      "cell_type": "code",
      "metadata": {
        "id": "ZBq6bZMDVYsq",
        "colab": {
          "base_uri": "https://localhost:8080/"
        },
        "outputId": "7f8a2900-3850-40c4-9645-85007d34c55a"
      },
      "source": [
        "print(len(df.columns), df.count())"
      ],
      "execution_count": null,
      "outputs": [
        {
          "output_type": "stream",
          "name": "stdout",
          "text": [
            "27 441802\n"
          ]
        }
      ]
    },
    {
      "cell_type": "markdown",
      "metadata": {
        "id": "m_OG1cAQV3sM"
      },
      "source": [
        "On peut voir que notre dataframe est composé de 26 colonnes pour 441802 lignes.\n",
        "\n",
        "Description des données :"
      ]
    },
    {
      "cell_type": "code",
      "metadata": {
        "id": "WuG3v6nRmZ5S",
        "colab": {
          "base_uri": "https://localhost:8080/"
        },
        "outputId": "905f07e3-2757-48ce-b500-af3d1228d7d4"
      },
      "source": [
        "df.describe().show()"
      ],
      "execution_count": null,
      "outputs": [
        {
          "output_type": "stream",
          "name": "stdout",
          "text": [
            "+-------+--------------------+--------------------+--------------------+------------------+--------------------+--------------------+-----------------+--------------------+-----------------+---------+------------------+-----------------+-----------------+------------------+-----------------+------+------------------+------------------+------------------+--------------------+--------------------+--------------------+--------------------+-----------------+-----------+--------------------+-----------------+\n",
            "|summary|                  id|                 url|              region|        region_url|               price|                year|     manufacturer|               model|        condition|cylinders|              fuel|         odometer|     title_status|      transmission|              VIN| drive|              size|              type|       paint_color|           image_url|         description|              county|               state|              lat|       long|        posting_date|            label|\n",
            "+-------+--------------------+--------------------+--------------------+------------------+--------------------+--------------------+-----------------+--------------------+-----------------+---------+------------------+-----------------+-----------------+------------------+-----------------+------+------------------+------------------+------------------+--------------------+--------------------+--------------------+--------------------+-----------------+-----------+--------------------+-----------------+\n",
            "|  count|              441802|              431918|              434901|            435269|              435356|              433912|           412865|              424296|           254659|   251004|            425458|           422520|           420184|            425870|           267316|297624|            121805|            334910|            297963|              428070|              428069|               59519|              418725|           360500|     363110|              419325|           432703|\n",
            "|   mean| 7.311486634224333E9|  1406.3489361702127|   1427.686274509804| 157.6067265494308|    74186.5376440274|  2005.5686682071973|744.1736842578244|  1914.5716864965727|549.0233284319527|   2005.0|1797.1560693641618|98034.05421755183| 322.347487744898| 368.7826138090185|         Infinity| 545.0| 424.0317873538461|479.85442769230747|1054.8554913294797|   466.3659410647941| 9.178405958896382E7|  1763.4578402366865|  1697.5362095531586|41.77550324222822|   Infinity|  348.66188724983874|35978.07156640929|\n",
            "| stddev|   4473170.412557316|   919.4004721287523|   808.3057161506485|474.66485537053006|1.2099967417236006E7|  112.05149237025323|1029.712929811658|   5327.649155487644|959.2700455051272|      0.0|248.64087282720493|213873.5016395878|214.1420067328583|173.93991068794728|              NaN|   0.0|203.03621112166982|316.42065528497534| 372.4679741756739|   815.1995906348874| 8.157813906765409E8|  1113.2425129612889|   737.2614799468287|84.63443683901487|        NaN|    787.578028719716|4317765.025318612|\n",
            "|    min|       1985 Mazda...|      2005 Subaru...|               1500 |             1500 |                    | $489 Doc charge ...|             2010|                2007|             2006|     2005|              1500|                0|             150 |              250 |             350 |   545|               530|               645|             1500 |               2500 |                3500|                    |                 ...|       -84.122245|-159.827728|                    |             -158|\n",
            "|    max|          7317101084|https://zanesvill...|zanesville / camb...|                wa|                  wa|                  wa|            volvo|🔥GMC Sierra 1500...|          salvage|    other|                wa|         10000000|          salvage|             other|ZPBUA1ZL1KLA02237|   rwd|       sub-compact|             wagon|            yellow|https://images.cr...|🧩6.6L V8! 🧩4X4 ...|✅ Phone 📱: (503)...|           blindspot|           8010.0|   Infinity| Rear: 245/40R19 ...|       1410065407|\n",
            "+-------+--------------------+--------------------+--------------------+------------------+--------------------+--------------------+-----------------+--------------------+-----------------+---------+------------------+-----------------+-----------------+------------------+-----------------+------+------------------+------------------+------------------+--------------------+--------------------+--------------------+--------------------+-----------------+-----------+--------------------+-----------------+\n",
            "\n"
          ]
        }
      ]
    },
    {
      "cell_type": "markdown",
      "metadata": {
        "id": "LfKu0cXkbcKI"
      },
      "source": [
        "Nombre de valeurs manquantes :"
      ]
    },
    {
      "cell_type": "code",
      "metadata": {
        "id": "hQu1GV1YWzYh",
        "colab": {
          "base_uri": "https://localhost:8080/"
        },
        "outputId": "9233e105-8b41-42ef-a038-a5d378c95561"
      },
      "source": [
        "from pyspark.sql.functions import isnan, when, count, col\n",
        "\n",
        "df.select([count(when(isnan(c) | col(c).isNull(), c)).alias(c) for c in df.columns]).show()"
      ],
      "execution_count": null,
      "outputs": [
        {
          "output_type": "stream",
          "name": "stdout",
          "text": [
            "+---+----+------+----------+-----+----+------------+-----+---------+---------+-----+--------+------------+------------+------+------+------+------+-----------+---------+-----------+------+-----+-----+-----+------------+-----+\n",
            "| id| url|region|region_url|price|year|manufacturer|model|condition|cylinders| fuel|odometer|title_status|transmission|   VIN| drive|  size|  type|paint_color|image_url|description|county|state|  lat| long|posting_date|label|\n",
            "+---+----+------+----------+-----+----+------------+-----+---------+---------+-----+--------+------------+------------+------+------+------+------+-----------+---------+-----------+------+-----+-----+-----+------------+-----+\n",
            "|  0|9884|  6901|      6533| 6446|7890|       28937|17506|   187143|   190798|16344|   19282|       21618|       15932|174486|144178|319997|106892|     143839|    13732|      13733|382283|23077|81302|78692|       22477| 9099|\n",
            "+---+----+------+----------+-----+----+------------+-----+---------+---------+-----+--------+------------+------------+------+------+------+------+-----------+---------+-----------+------+-----+-----+-----+------------+-----+\n",
            "\n"
          ]
        }
      ]
    },
    {
      "cell_type": "markdown",
      "metadata": {
        "id": "uT9yUWQZbXtE"
      },
      "source": [
        "Taux de valeurs manquantes :"
      ]
    },
    {
      "cell_type": "code",
      "metadata": {
        "id": "8zLxvi6daD4I",
        "colab": {
          "base_uri": "https://localhost:8080/"
        },
        "outputId": "bb3ebb00-af85-49c9-e43a-e66dffc23552"
      },
      "source": [
        "amount_missing_df = df.select([(count(when(isnan(c) | col(c).isNull(), c))/count(lit(1))).alias(c) for c in df.columns])\n",
        "amount_missing_df.show()"
      ],
      "execution_count": null,
      "outputs": [
        {
          "output_type": "stream",
          "name": "stdout",
          "text": [
            "+---+--------------------+-------------------+-------------------+--------------------+-------------------+-------------------+--------------------+------------------+------------------+-------------------+-------------------+--------------------+--------------------+-------------------+------------------+-----------------+------------------+-------------------+--------------------+------------------+------------------+-------------------+-------------------+-------------------+-------------------+--------------------+\n",
            "| id|                 url|             region|         region_url|               price|               year|       manufacturer|               model|         condition|         cylinders|               fuel|           odometer|        title_status|        transmission|                VIN|             drive|             size|              type|        paint_color|           image_url|       description|            county|              state|                lat|               long|       posting_date|               label|\n",
            "+---+--------------------+-------------------+-------------------+--------------------+-------------------+-------------------+--------------------+------------------+------------------+-------------------+-------------------+--------------------+--------------------+-------------------+------------------+-----------------+------------------+-------------------+--------------------+------------------+------------------+-------------------+-------------------+-------------------+-------------------+--------------------+\n",
            "|0.0|0.022372012802114975|0.01562011942001168|0.01478716710200497|0.014590246309432732|0.01785867877465471|0.06549766637543515|0.039624084997351754|0.4235902055671998|0.4318631423126197|0.03699394751495014|0.04364398531468848|0.048931421768122374|0.036061403071964364|0.39494162543401795|0.3263407589825306|0.724299573111937|0.2419454868923183|0.32557344692871465|0.031081796823011213|0.0310840602803971|0.8652812798493443|0.05223380609413267|0.18402361238744958|0.17811598861028244|0.05087573166259999|0.020595198754193054|\n",
            "+---+--------------------+-------------------+-------------------+--------------------+-------------------+-------------------+--------------------+------------------+------------------+-------------------+-------------------+--------------------+--------------------+-------------------+------------------+-----------------+------------------+-------------------+--------------------+------------------+------------------+-------------------+-------------------+-------------------+-------------------+--------------------+\n",
            "\n"
          ]
        }
      ]
    },
    {
      "cell_type": "markdown",
      "metadata": {
        "id": "u8Sz0H_ZTrze"
      },
      "source": [
        "# Identification des attributs non pertinents "
      ]
    },
    {
      "cell_type": "markdown",
      "metadata": {
        "id": "a4Pb-x_qi9sG"
      },
      "source": [
        "## Séléction du sous ensemble\n",
        "On va maintenant supprimer les colonnes inutiles :\n",
        "\n",
        "*   id, url, VIN, image_url, description, posting_date : car ce sont des attributs uniques à chaque véhicule\n",
        "*   region_url, lat, long : car nous allons identifier la position avec la colonne 'region'\n",
        "*   county : car c'est une colonne inutile laissée par erreur (indiqué sur kaggle)\n",
        "\n",
        "\n"
      ]
    },
    {
      "cell_type": "code",
      "metadata": {
        "id": "7vCDkZxGTrE-"
      },
      "source": [
        "df = df.drop(\"id\", \"price\", \"url\", \"region_url\",\"VIN\",\"image_url\",\"description\", \"county\", \"lat\", \"long\", \"posting_date\")"
      ],
      "execution_count": null,
      "outputs": []
    },
    {
      "cell_type": "code",
      "metadata": {
        "id": "8LxW6Qu7kNni",
        "colab": {
          "base_uri": "https://localhost:8080/"
        },
        "outputId": "5c2a04f0-840c-478e-f2cd-c7c78158b2df"
      },
      "source": [
        "df.show()"
      ],
      "execution_count": null,
      "outputs": [
        {
          "output_type": "stream",
          "name": "stdout",
          "text": [
            "+--------------------+----+------------+-----+---------+---------+----+--------+------------+------------+-----+----+----+-----------+-----+-----+\n",
            "|              region|year|manufacturer|model|condition|cylinders|fuel|odometer|title_status|transmission|drive|size|type|paint_color|state|label|\n",
            "+--------------------+----+------------+-----+---------+---------+----+--------+------------+------------+-----+----+----+-----------+-----+-----+\n",
            "|            prescott|null|        null| null|     null|     null|null|    null|        null|        null| null|null|null|       null|   az| 6000|\n",
            "|        fayetteville|null|        null| null|     null|     null|null|    null|        null|        null| null|null|null|       null|   ar|11900|\n",
            "|        florida keys|null|        null| null|     null|     null|null|    null|        null|        null| null|null|null|       null|   fl|21000|\n",
            "|worcester / centr...|null|        null| null|     null|     null|null|    null|        null|        null| null|null|null|       null|   ma| 1500|\n",
            "|          greensboro|null|        null| null|     null|     null|null|    null|        null|        null| null|null|null|       null|   nc| 4900|\n",
            "|       hudson valley|null|        null| null|     null|     null|null|    null|        null|        null| null|null|null|       null|   ny| 1600|\n",
            "|       hudson valley|null|        null| null|     null|     null|null|    null|        null|        null| null|null|null|       null|   ny| 1000|\n",
            "|       hudson valley|null|        null| null|     null|     null|null|    null|        null|        null| null|null|null|       null|   ny|15995|\n",
            "|     medford-ashland|null|        null| null|     null|     null|null|    null|        null|        null| null|null|null|       null|   or| 5000|\n",
            "|                erie|null|        null| null|     null|     null|null|    null|        null|        null| null|null|null|       null|   pa| 3000|\n",
            "|             el paso|null|        null| null|     null|     null|null|    null|        null|        null| null|null|null|       null|   tx|    0|\n",
            "|             el paso|null|        null| null|     null|     null|null|    null|        null|        null| null|null|null|       null|   tx|    0|\n",
            "|             el paso|null|        null| null|     null|     null|null|    null|        null|        null| null|null|null|       null|   tx|    0|\n",
            "|             el paso|null|        null| null|     null|     null|null|    null|        null|        null| null|null|null|       null|   tx|    0|\n",
            "|             el paso|null|        null| null|     null|     null|null|    null|        null|        null| null|null|null|       null|   tx|    0|\n",
            "|          bellingham|null|        null| null|     null|     null|null|    null|        null|        null| null|null|null|       null|   wa|13995|\n",
            "|          bellingham|null|        null| null|     null|     null|null|    null|        null|        null| null|null|null|       null|   wa|24999|\n",
            "|          bellingham|null|        null| null|     null|     null|null|    null|        null|        null| null|null|null|       null|   wa|21850|\n",
            "|          bellingham|null|        null| null|     null|     null|null|    null|        null|        null| null|null|null|       null|   wa|26850|\n",
            "|          bellingham|null|        null| null|     null|     null|null|    null|        null|        null| null|null|null|       null|   wa|11999|\n",
            "+--------------------+----+------------+-----+---------+---------+----+--------+------------+------------+-----+----+----+-----------+-----+-----+\n",
            "only showing top 20 rows\n",
            "\n"
          ]
        }
      ]
    },
    {
      "cell_type": "code",
      "metadata": {
        "id": "EFepWZUxkb3c",
        "colab": {
          "base_uri": "https://localhost:8080/"
        },
        "outputId": "65cc288c-319a-44a1-a329-1d865a31e654"
      },
      "source": [
        "df.printSchema()"
      ],
      "execution_count": null,
      "outputs": [
        {
          "output_type": "stream",
          "name": "stdout",
          "text": [
            "root\n",
            " |-- region: string (nullable = true)\n",
            " |-- year: string (nullable = true)\n",
            " |-- manufacturer: string (nullable = true)\n",
            " |-- model: string (nullable = true)\n",
            " |-- condition: string (nullable = true)\n",
            " |-- cylinders: string (nullable = true)\n",
            " |-- fuel: string (nullable = true)\n",
            " |-- odometer: integer (nullable = true)\n",
            " |-- title_status: string (nullable = true)\n",
            " |-- transmission: string (nullable = true)\n",
            " |-- drive: string (nullable = true)\n",
            " |-- size: string (nullable = true)\n",
            " |-- type: string (nullable = true)\n",
            " |-- paint_color: string (nullable = true)\n",
            " |-- state: string (nullable = true)\n",
            " |-- label: integer (nullable = true)\n",
            "\n"
          ]
        }
      ]
    },
    {
      "cell_type": "markdown",
      "metadata": {
        "id": "W5cVjoUcneo-"
      },
      "source": [
        "## Imputation des valeurs manquantes"
      ]
    },
    {
      "cell_type": "code",
      "metadata": {
        "id": "aManyHppmHyP"
      },
      "source": [
        "df = df.na.drop(\"any\")"
      ],
      "execution_count": null,
      "outputs": []
    },
    {
      "cell_type": "code",
      "metadata": {
        "id": "ezUYbGeemWPa",
        "colab": {
          "base_uri": "https://localhost:8080/"
        },
        "outputId": "3d928fed-a8dd-4764-ceef-a7852842cf32"
      },
      "source": [
        "print(len(df.columns), df.count())"
      ],
      "execution_count": null,
      "outputs": [
        {
          "output_type": "stream",
          "name": "stdout",
          "text": [
            "16 78270\n"
          ]
        }
      ]
    },
    {
      "cell_type": "markdown",
      "metadata": {
        "id": "DGbYq7wCRVqV"
      },
      "source": [
        "On réduit la taille du dataframe pour reduire le temps de calcul."
      ]
    },
    {
      "cell_type": "code",
      "metadata": {
        "colab": {
          "base_uri": "https://localhost:8080/"
        },
        "id": "F3OLhgJUG7AL",
        "outputId": "dd4ab311-6b20-47fe-9c5d-7f966fbb7015"
      },
      "source": [
        "df = df.sample(fraction=0.2)\n",
        "print(len(df.columns), df.count())"
      ],
      "execution_count": null,
      "outputs": [
        {
          "output_type": "stream",
          "name": "stdout",
          "text": [
            "16 15590\n"
          ]
        }
      ]
    },
    {
      "cell_type": "markdown",
      "metadata": {
        "id": "I9rLZLZ-nrOc"
      },
      "source": [
        "On a maintenant un dataframe que nous allons pouvoir exploiter."
      ]
    },
    {
      "cell_type": "markdown",
      "metadata": {
        "id": "ViYBUUkXFACL"
      },
      "source": [
        "# Creation du PIPELINE"
      ]
    },
    {
      "cell_type": "code",
      "metadata": {
        "id": "jwJlI_GlEFLG"
      },
      "source": [
        "from pyspark.ml.feature import StringIndexer\n",
        "from pyspark.ml.feature import OneHotEncoder\n",
        "from pyspark.ml.feature import VectorAssembler\n",
        "from pyspark.ml.feature import VectorIndexer\n",
        "from pyspark.ml import Pipeline \n",
        "\n",
        "\n",
        "'''\n",
        " |-- region: string (nullable = true)\n",
        " |--\n",
        " |-- year: string (nullable = true)\n",
        " |-- manufacturer: string (nullable = true)\n",
        " |-- model: string (nullable = true)\n",
        " |-- condition: string (nullable = true)\n",
        " |-- cylinders: string (nullable = true)\n",
        " |-- fuel: string (nullable = true)\n",
        " |-- \n",
        " |-- title_status: string (nullable = true)\n",
        " |-- transmission: string (nullable = true)\n",
        " |-- drive: string (nullable = true)\n",
        " |-- size: string (nullable = true)\n",
        " |-- type: string (nullable = true)\n",
        " |-- paint_color: string (nullable = true)\n",
        " |-- state: string (nullable = true)\n",
        "'''\n",
        "\n",
        "\n",
        "#STRING INDEXER \n",
        "\n",
        "#1\n",
        "#region_indexer = StringIndexer(inputCol='region',outputCol='indexed_region')\n",
        "\n",
        "#price integer donc OK\n",
        "#price: integer (nullable = true)\n",
        "\n",
        "#2\n",
        "year_indexer = StringIndexer(inputCol='year',outputCol='indexed_year')\n",
        "\n",
        "#3\n",
        "manufacturer_indexer = StringIndexer(inputCol='manufacturer',outputCol='indexed_manufacturer')\n",
        "\n",
        "#4\n",
        "model_indexer = StringIndexer(inputCol='model',outputCol='indexed_model')\n",
        "\n",
        "#5\n",
        "condition_indexer = StringIndexer(inputCol='condition',outputCol='indexed_condition')\n",
        "\n",
        "#6\n",
        "cylinders_indexer = StringIndexer(inputCol='cylinders',outputCol='indexed_cylinders')\n",
        "\n",
        "#7\n",
        "fuel_indexer = StringIndexer(inputCol='fuel',outputCol='indexed_fuel')\n",
        "\n",
        "#Odometer integer donc ok\n",
        "#odometer: integer (nullable = true)\n",
        "\n",
        "#8\n",
        "title_status_indexer = StringIndexer(inputCol='title_status',outputCol='indexed_title_status')\n",
        "\n",
        "#9\n",
        "transmission_indexer = StringIndexer(inputCol='transmission',outputCol='indexed_transmission')\n",
        "\n",
        "#10\n",
        "#drive_indexer = StringIndexer(inputCol='drive',outputCol='indexed_drive')\n",
        "\n",
        "#11\n",
        "size_indexer = StringIndexer(inputCol='size',outputCol='indexed_size')\n",
        "\n",
        "#12\n",
        "type_indexer = StringIndexer(inputCol='type',outputCol='indexed_type')\n",
        "\n",
        "#13\n",
        "paint_color_indexer = StringIndexer(inputCol='paint_color',outputCol='indexed_paint_color')\n",
        "\n",
        "#14\n",
        "#state_indexer = StringIndexer(inputCol='state',outputCol='indexed_state')\n",
        "\n",
        "#LABEL\n",
        "#label_stringIdx = StringIndexer(inputCol = 'price', outputCol = 'label')\n",
        "\n",
        "#ONEHOTENCODER\n",
        "\n",
        "#1\n",
        "#region_onehotenc =OneHotEncoder(inputCol=region_indexer.getOutputCol(),outputCol='onehot_region')\n",
        "#region_onehotenc.setDropLast(False)\n",
        "\n",
        "#2\n",
        "year_onehotenc =OneHotEncoder(inputCol=year_indexer.getOutputCol(),outputCol='onehot_year')\n",
        "year_onehotenc.setDropLast(False)\n",
        "\n",
        "#3\n",
        "manufacturer_onehotenc =OneHotEncoder(inputCol=manufacturer_indexer.getOutputCol(),outputCol='onehot_manufacturer')\n",
        "manufacturer_onehotenc.setDropLast(False)\n",
        "\n",
        "#4\n",
        "model_onehotenc =OneHotEncoder(inputCol=model_indexer.getOutputCol(),outputCol='onehot_model')\n",
        "model_onehotenc.setDropLast(False)\n",
        "\n",
        "#5\n",
        "condition_onehotenc =OneHotEncoder(inputCol=condition_indexer.getOutputCol(),outputCol='onehot_condition')\n",
        "condition_onehotenc.setDropLast(False)\n",
        "\n",
        "#6\n",
        "cylinders_onehotenc =OneHotEncoder(inputCol=cylinders_indexer.getOutputCol(),outputCol='onehot_cylinders')\n",
        "cylinders_onehotenc.setDropLast(False)\n",
        "\n",
        "#7\n",
        "fuel_onehotenc =OneHotEncoder(inputCol=fuel_indexer.getOutputCol(),outputCol='onehot_fuel')\n",
        "fuel_onehotenc.setDropLast(False)\n",
        "\n",
        "#8\n",
        "title_status_onehotenc =OneHotEncoder(inputCol=title_status_indexer.getOutputCol(),outputCol='onehot_title_status')\n",
        "title_status_onehotenc.setDropLast(False)\n",
        "\n",
        "#9\n",
        "transmission_onehotenc =OneHotEncoder(inputCol=transmission_indexer.getOutputCol(),outputCol='onehot_transmission')\n",
        "transmission_onehotenc.setDropLast(False)\n",
        "\n",
        "#10\n",
        "#drive_onehotenc =OneHotEncoder(inputCol=drive_indexer.getOutputCol(),outputCol='onehot_drive')\n",
        "#drive_onehotenc.setDropLast(False)\n",
        "\n",
        "#11\n",
        "size_onehotenc =OneHotEncoder(inputCol=size_indexer.getOutputCol(),outputCol='onehot_size')\n",
        "size_onehotenc.setDropLast(False)\n",
        "\n",
        "#12\n",
        "type_onehotenc =OneHotEncoder(inputCol=type_indexer.getOutputCol(),outputCol='onehot_type')\n",
        "type_onehotenc.setDropLast(False)\n",
        "\n",
        "#13\n",
        "paint_color_onehotenc =OneHotEncoder(inputCol=paint_color_indexer.getOutputCol(),outputCol='onehot_paint_color')\n",
        "paint_color_onehotenc.setDropLast(False)\n",
        "\n",
        "#14\n",
        "#state_onehotenc =OneHotEncoder(inputCol=state_indexer.getOutputCol(),outputCol='onehot_state')\n",
        "#state_onehotenc.setDropLast(False)\n",
        "\n",
        "\n",
        "\n",
        "#VECTOR ASSEMBLER\n",
        "#'onehot_transmission'\n",
        "#1\n",
        "#cols = ['onehot_region','label','onehot_year','onehot_manufacturer','onehot_model','onehot_condition','onehot_cylinders','onehot_fuel','odometer','onehot_title_status','onehot_transmission','onehot_drive','onehot_size','onehot_type','onehot_paint_color','onehot_state']\n",
        "cols = [ 'label','onehot_year','onehot_manufacturer','onehot_model','onehot_condition','onehot_cylinders','onehot_fuel','odometer','onehot_title_status','onehot_transmission','onehot_size','onehot_type','onehot_paint_color']\n",
        "vec_assembler = VectorAssembler(inputCols= cols, outputCol= 'features_assem')\n",
        "\n",
        "#VECTOR INDEXER\n",
        "\n",
        "#1\n",
        "vec_indexer = VectorIndexer(inputCol=vec_assembler.getOutputCol(),outputCol='features_final', maxCategories=3)\n",
        "\n",
        "#transmission_indexer\n",
        "#stages = [region_indexer,year_indexer,manufacturer_indexer,model_indexer,condition_indexer,cylinders_indexer,fuel_indexer,title_status_indexer,transmission_indexer,drive_indexer,size_indexer,type_indexer,paint_color_indexer,state_indexer,label_stringIdx,region_onehotenc,\n",
        "#          year_onehotenc,manufacturer_onehotenc,model_onehotenc,condition_onehotenc,cylinders_onehotenc,fuel_onehotenc,title_status_onehotenc,transmission_onehotenc,drive_onehotenc,size_onehotenc,type_onehotenc,paint_color_onehotenc,state_onehotenc,vec_assembler,vec_indexer]\n",
        "\n",
        "stages = [year_indexer,manufacturer_indexer,model_indexer,condition_indexer,cylinders_indexer,fuel_indexer,title_status_indexer,transmission_indexer,size_indexer,type_indexer,paint_color_indexer,\n",
        "          year_onehotenc,manufacturer_onehotenc,model_onehotenc,condition_onehotenc,cylinders_onehotenc,fuel_onehotenc,title_status_onehotenc,transmission_onehotenc,size_onehotenc,type_onehotenc,paint_color_onehotenc,vec_assembler,vec_indexer]\n",
        "\n",
        "\n",
        "pipeline = Pipeline(stages = stages)\n",
        "\n",
        "lists = df.drop('region', 'drive', 'state')\n",
        "\n",
        "train_lists = pipeline.fit(lists).transform(lists)\n",
        "\n",
        "      \n"
      ],
      "execution_count": null,
      "outputs": []
    },
    {
      "cell_type": "code",
      "metadata": {
        "id": "35mnxLaNPK7H",
        "colab": {
          "base_uri": "https://localhost:8080/"
        },
        "outputId": "b5640e6d-0964-403f-8ef4-79ed074cfa0a"
      },
      "source": [
        "train_lists.show()"
      ],
      "execution_count": null,
      "outputs": [
        {
          "output_type": "stream",
          "name": "stdout",
          "text": [
            "+----+------------+--------------------+---------+-----------+------+--------+------------+------------+---------+-----------+-----------+-----+------------+--------------------+-------------+-----------------+-----------------+------------+--------------------+--------------------+------------+------------+-------------------+---------------+-------------------+-------------------+----------------+----------------+-------------+-------------------+-------------------+-------------+--------------+------------------+--------------------+--------------------+\n",
            "|year|manufacturer|               model|condition|  cylinders|  fuel|odometer|title_status|transmission|     size|       type|paint_color|label|indexed_year|indexed_manufacturer|indexed_model|indexed_condition|indexed_cylinders|indexed_fuel|indexed_title_status|indexed_transmission|indexed_size|indexed_type|indexed_paint_color|    onehot_year|onehot_manufacturer|       onehot_model|onehot_condition|onehot_cylinders|  onehot_fuel|onehot_title_status|onehot_transmission|  onehot_size|   onehot_type|onehot_paint_color|      features_assem|      features_final|\n",
            "+----+------------+--------------------+---------+-----------+------+--------+------------+------------+---------+-----------+-----------+-----+------------+--------------------+-------------+-----------------+-----------------+------------+--------------------+--------------------+------------+------------+-------------------+---------------+-------------------+-------------------+----------------+----------------+-------------+-------------------+-------------------+-------------+--------------+------------------+--------------------+--------------------+\n",
            "|2006|        jeep|grand cherokee la...|     good|6 cylinders|   gas|  281000|       clean|   automatic| mid-size|        SUV|      black| 4000|         9.0|                 6.0|        103.0|              1.0|              0.0|         0.0|                 0.0|                 0.0|         1.0|         1.0|                1.0| (92,[9],[1.0])|     (41,[6],[1.0])| (3905,[103],[1.0])|   (6,[1],[1.0])|   (8,[0],[1.0])|(5,[0],[1.0])|      (6,[0],[1.0])|      (3,[0],[1.0])|(4,[1],[1.0])|(13,[1],[1.0])|    (12,[1],[1.0])|(4097,[0,10,99,23...|(4097,[0,10,99,23...|\n",
            "|2002|        ford|         thunderbird|      new|8 cylinders|   gas|   15996|       clean|   automatic|  compact|convertible|     yellow|21250|        17.0|                 0.0|        144.0|              4.0|              2.0|         0.0|                 0.0|                 0.0|         2.0|         7.0|                9.0|(92,[17],[1.0])|     (41,[0],[1.0])| (3905,[144],[1.0])|   (6,[4],[1.0])|   (8,[2],[1.0])|(5,[0],[1.0])|      (6,[0],[1.0])|      (3,[0],[1.0])|(4,[2],[1.0])|(13,[7],[1.0])|    (12,[9],[1.0])|(4097,[0,18,93,27...|(4097,[0,18,93,27...|\n",
            "|2004|   chevrolet|              blazer|     good|6 cylinders|   gas|  131500|       clean|   automatic| mid-size|        SUV|      white| 3000|        14.0|                 1.0|        234.0|              1.0|              0.0|         0.0|                 0.0|                 0.0|         1.0|         1.0|                0.0|(92,[14],[1.0])|     (41,[1],[1.0])| (3905,[234],[1.0])|   (6,[1],[1.0])|   (8,[0],[1.0])|(5,[0],[1.0])|      (6,[0],[1.0])|      (3,[0],[1.0])|(4,[1],[1.0])|(13,[1],[1.0])|    (12,[0],[1.0])|(4097,[0,15,94,36...|(4097,[0,15,94,36...|\n",
            "|1955|   chevrolet|             bel air|     good|8 cylinders|   gas|   96867|       clean|   automatic|full-size|      sedan|      green|19950|        53.0|                 1.0|       1948.0|              1.0|              2.0|         0.0|                 0.0|                 0.0|         0.0|         0.0|                6.0|(92,[53],[1.0])|     (41,[1],[1.0])|(3905,[1948],[1.0])|   (6,[1],[1.0])|   (8,[2],[1.0])|(5,[0],[1.0])|      (6,[0],[1.0])|      (3,[0],[1.0])|(4,[0],[1.0])|(13,[0],[1.0])|    (12,[6],[1.0])|(4097,[0,54,94,20...|(4097,[0,54,94,20...|\n",
            "|2014|      toyota|      prius v hybrid|     good|4 cylinders|   gas|  136128|       clean|   automatic| mid-size|  hatchback|      white| 9500|         2.0|                 2.0|        938.0|              1.0|              1.0|         0.0|                 0.0|                 0.0|         1.0|         5.0|                0.0| (92,[2],[1.0])|     (41,[2],[1.0])| (3905,[938],[1.0])|   (6,[1],[1.0])|   (8,[1],[1.0])|(5,[0],[1.0])|      (6,[0],[1.0])|      (3,[0],[1.0])|(4,[1],[1.0])|(13,[5],[1.0])|    (12,[0],[1.0])|(4097,[0,3,95,107...|(4097,[0,3,95,107...|\n",
            "|2014|         gmc|sierra 2500hd denali|excellent|8 cylinders|diesel|  154289|       clean|   automatic|full-size|      truck|      black|45950|         2.0|                 5.0|        966.0|              0.0|              2.0|         1.0|                 0.0|                 0.0|         0.0|         2.0|                1.0| (92,[2],[1.0])|     (41,[5],[1.0])| (3905,[966],[1.0])|   (6,[0],[1.0])|   (8,[2],[1.0])|(5,[1],[1.0])|      (6,[0],[1.0])|      (3,[0],[1.0])|(4,[0],[1.0])|(13,[2],[1.0])|    (12,[1],[1.0])|(4097,[0,3,98,110...|(4097,[0,3,98,110...|\n",
            "|2015|         gmc|      1500 yukon slt|     good|8 cylinders|   gas|  109947|       clean|   automatic|full-size|        SUV|      white|31888|         1.0|                 5.0|       1031.0|              1.0|              2.0|         0.0|                 0.0|                 0.0|         0.0|         1.0|                0.0| (92,[1],[1.0])|     (41,[5],[1.0])|(3905,[1031],[1.0])|   (6,[1],[1.0])|   (8,[2],[1.0])|(5,[0],[1.0])|      (6,[0],[1.0])|      (3,[0],[1.0])|(4,[0],[1.0])|(13,[1],[1.0])|    (12,[0],[1.0])|(4097,[0,2,98,116...|(4097,[0,2,98,116...|\n",
            "|2008|       acura|                  tl|     good|6 cylinders|   gas|  242000|       clean|   automatic| mid-size|      sedan|       grey| 3500|         5.0|                21.0|         75.0|              1.0|              0.0|         0.0|                 0.0|                 0.0|         1.0|         0.0|                3.0| (92,[5],[1.0])|    (41,[21],[1.0])|  (3905,[75],[1.0])|   (6,[1],[1.0])|   (8,[0],[1.0])|(5,[0],[1.0])|      (6,[0],[1.0])|      (3,[0],[1.0])|(4,[1],[1.0])|(13,[0],[1.0])|    (12,[3],[1.0])|(4097,[0,6,114,20...|(4097,[0,6,114,20...|\n",
            "|2008|      toyota|      fj cruiser 4x4|     good|6 cylinders|   gas|  188096|       clean|   automatic| mid-size|        SUV|     yellow|16888|         5.0|                 2.0|        379.0|              1.0|              0.0|         0.0|                 0.0|                 0.0|         1.0|         1.0|                9.0| (92,[5],[1.0])|     (41,[2],[1.0])| (3905,[379],[1.0])|   (6,[1],[1.0])|   (8,[0],[1.0])|(5,[0],[1.0])|      (6,[0],[1.0])|      (3,[0],[1.0])|(4,[1],[1.0])|(13,[1],[1.0])|    (12,[9],[1.0])|(4097,[0,6,95,513...|(4097,[0,6,95,513...|\n",
            "|2011|    cadillac|            escalade|     good|8 cylinders|   gas|  133257|       clean|   automatic|full-size|        SUV|      white|19900|         3.0|                18.0|        114.0|              1.0|              2.0|         0.0|                 0.0|                 0.0|         0.0|         1.0|                0.0| (92,[3],[1.0])|    (41,[18],[1.0])| (3905,[114],[1.0])|   (6,[1],[1.0])|   (8,[2],[1.0])|(5,[0],[1.0])|      (6,[0],[1.0])|      (3,[0],[1.0])|(4,[0],[1.0])|(13,[1],[1.0])|    (12,[0],[1.0])|(4097,[0,4,111,24...|(4097,[0,4,111,24...|\n",
            "|2014|         ram|        2500 slt 4x4| like new|6 cylinders|diesel| 1111111|       clean|   automatic|full-size|      truck|      white|    0|         2.0|                 7.0|       1037.0|              2.0|              0.0|         1.0|                 0.0|                 0.0|         0.0|         2.0|                0.0| (92,[2],[1.0])|     (41,[7],[1.0])|(3905,[1037],[1.0])|   (6,[2],[1.0])|   (8,[0],[1.0])|(5,[1],[1.0])|      (6,[0],[1.0])|      (3,[0],[1.0])|(4,[0],[1.0])|(13,[2],[1.0])|    (12,[0],[1.0])|(4097,[3,100,1171...|(4097,[3,100,1171...|\n",
            "|2012|         ram|            3500 slt| like new|6 cylinders|diesel| 1111111|       clean|   automatic|full-size|      truck|      white|    0|         4.0|                 7.0|       1050.0|              2.0|              0.0|         1.0|                 0.0|                 0.0|         0.0|         2.0|                0.0| (92,[4],[1.0])|     (41,[7],[1.0])|(3905,[1050],[1.0])|   (6,[2],[1.0])|   (8,[0],[1.0])|(5,[1],[1.0])|      (6,[0],[1.0])|      (3,[0],[1.0])|(4,[0],[1.0])|(13,[2],[1.0])|    (12,[0],[1.0])|(4097,[5,100,1184...|(4097,[5,100,1184...|\n",
            "|2018|      toyota|4runner sr5premiu...| like new|6 cylinders|   gas|   44000|       clean|   automatic| mid-size|        SUV|      white|    0|        13.0|                 2.0|       1766.0|              2.0|              0.0|         0.0|                 0.0|                 0.0|         1.0|         1.0|                0.0|(92,[13],[1.0])|     (41,[2],[1.0])|(3905,[1766],[1.0])|   (6,[2],[1.0])|   (8,[0],[1.0])|(5,[0],[1.0])|      (6,[0],[1.0])|      (3,[0],[1.0])|(4,[1],[1.0])|(13,[1],[1.0])|    (12,[0],[1.0])|(4097,[14,95,1900...|(4097,[14,95,1900...|\n",
            "|2013|       mazda|              sx4 se| like new|4 cylinders|   gas|   91000|       clean|   automatic|  compact|      sedan|        red| 5999|         0.0|                20.0|       3597.0|              2.0|              1.0|         0.0|                 0.0|                 0.0|         2.0|         0.0|                5.0| (92,[0],[1.0])|    (41,[20],[1.0])|(3905,[3597],[1.0])|   (6,[2],[1.0])|   (8,[1],[1.0])|(5,[0],[1.0])|      (6,[0],[1.0])|      (3,[0],[1.0])|(4,[2],[1.0])|(13,[0],[1.0])|    (12,[5],[1.0])|(4097,[0,1,113,37...|(4097,[0,1,113,37...|\n",
            "|2015|         gmc|      1500 yukon slt|     good|8 cylinders|   gas|  109947|       clean|   automatic|full-size|        SUV|      white|31888|         1.0|                 5.0|       1031.0|              1.0|              2.0|         0.0|                 0.0|                 0.0|         0.0|         1.0|                0.0| (92,[1],[1.0])|     (41,[5],[1.0])|(3905,[1031],[1.0])|   (6,[1],[1.0])|   (8,[2],[1.0])|(5,[0],[1.0])|      (6,[0],[1.0])|      (3,[0],[1.0])|(4,[0],[1.0])|(13,[1],[1.0])|    (12,[0],[1.0])|(4097,[0,2,98,116...|(4097,[0,2,98,116...|\n",
            "|2017|        ford|         transit 150|excellent|6 cylinders|   gas|  108482|       clean|   automatic|full-size|        van|      white|23900|        10.0|                 0.0|        354.0|              0.0|              0.0|         0.0|                 0.0|                 0.0|         0.0|         6.0|                0.0|(92,[10],[1.0])|     (41,[0],[1.0])| (3905,[354],[1.0])|   (6,[0],[1.0])|   (8,[0],[1.0])|(5,[0],[1.0])|      (6,[0],[1.0])|      (3,[0],[1.0])|(4,[0],[1.0])|(13,[6],[1.0])|    (12,[0],[1.0])|(4097,[0,11,93,48...|(4097,[0,11,93,48...|\n",
            "|2020|    infiniti|          qx 50 luxe| like new|4 cylinders|   gas|    4230|       clean|      manual|full-size|        SUV|      white|37500|        19.0|                22.0|       3213.0|              2.0|              1.0|         0.0|                 0.0|                 1.0|         0.0|         1.0|                0.0|(92,[19],[1.0])|    (41,[22],[1.0])|(3905,[3213],[1.0])|   (6,[2],[1.0])|   (8,[1],[1.0])|(5,[0],[1.0])|      (6,[0],[1.0])|      (3,[1],[1.0])|(4,[0],[1.0])|(13,[1],[1.0])|    (12,[0],[1.0])|(4097,[0,20,115,3...|(4097,[0,20,115,3...|\n",
            "|2016|         ram|    3500 laramie 4x4| like new|6 cylinders|diesel|  128377|       clean|   automatic|full-size|      truck|      black|    0|         7.0|                 7.0|       1048.0|              2.0|              0.0|         1.0|                 0.0|                 0.0|         0.0|         2.0|                1.0| (92,[7],[1.0])|     (41,[7],[1.0])|(3905,[1048],[1.0])|   (6,[2],[1.0])|   (8,[0],[1.0])|(5,[1],[1.0])|      (6,[0],[1.0])|      (3,[0],[1.0])|(4,[0],[1.0])|(13,[2],[1.0])|    (12,[1],[1.0])|(4097,[8,100,1182...|(4097,[8,100,1182...|\n",
            "|2010|       mazda|                  3i|     good|4 cylinders|   gas|  165255|     rebuilt|   automatic| mid-size|      sedan|       grey| 6900|         8.0|                20.0|       1748.0|              1.0|              1.0|         0.0|                 1.0|                 0.0|         1.0|         0.0|                3.0| (92,[8],[1.0])|    (41,[20],[1.0])|(3905,[1748],[1.0])|   (6,[1],[1.0])|   (8,[1],[1.0])|(5,[0],[1.0])|      (6,[1],[1.0])|      (3,[0],[1.0])|(4,[1],[1.0])|(13,[0],[1.0])|    (12,[3],[1.0])|(4097,[0,9,113,18...|(4097,[0,9,113,18...|\n",
            "|2011|        ford|super duty f-450 drw|     good|8 cylinders|diesel|  137481|       clean|   automatic|full-size|      truck|      white|29990|         3.0|                 0.0|        181.0|              1.0|              2.0|         1.0|                 0.0|                 0.0|         0.0|         2.0|                0.0| (92,[3],[1.0])|     (41,[0],[1.0])| (3905,[181],[1.0])|   (6,[1],[1.0])|   (8,[2],[1.0])|(5,[1],[1.0])|      (6,[0],[1.0])|      (3,[0],[1.0])|(4,[0],[1.0])|(13,[2],[1.0])|    (12,[0],[1.0])|(4097,[0,4,93,315...|(4097,[0,4,93,315...|\n",
            "+----+------------+--------------------+---------+-----------+------+--------+------------+------------+---------+-----------+-----------+-----+------------+--------------------+-------------+-----------------+-----------------+------------+--------------------+--------------------+------------+------------+-------------------+---------------+-------------------+-------------------+----------------+----------------+-------------+-------------------+-------------------+-------------+--------------+------------------+--------------------+--------------------+\n",
            "only showing top 20 rows\n",
            "\n"
          ]
        }
      ]
    },
    {
      "cell_type": "markdown",
      "metadata": {
        "id": "x3jCCgH1uHZd"
      },
      "source": [
        "# Préparation du Dataframe"
      ]
    },
    {
      "cell_type": "markdown",
      "metadata": {
        "id": "6oh3jtQ0RfKH"
      },
      "source": [
        "On va maintenant préparer le dataframe en supprimant les valeurs aberrantes, puis choisir les colonnes que l'on va utiliser pour la prédiction."
      ]
    },
    {
      "cell_type": "code",
      "metadata": {
        "colab": {
          "base_uri": "https://localhost:8080/"
        },
        "id": "JgclBWIwLdgU",
        "outputId": "03ea564d-ad60-4d85-adfc-64bb4ae13a44"
      },
      "source": [
        "test = train_lists.select(col('label')).groupBy(col('label')).count().orderBy(col('count').desc())\n",
        "test.show()"
      ],
      "execution_count": null,
      "outputs": [
        {
          "output_type": "stream",
          "name": "stdout",
          "text": [
            "+-----+-----+\n",
            "|label|count|\n",
            "+-----+-----+\n",
            "|    0|  688|\n",
            "| 6500|  208|\n",
            "| 4500|  197|\n",
            "| 3500|  194|\n",
            "| 7500|  187|\n",
            "| 5500|  167|\n",
            "| 2500|  154|\n",
            "|    1|  152|\n",
            "| 6995|  151|\n",
            "| 8500|  145|\n",
            "| 5000|  140|\n",
            "| 5995|  136|\n",
            "| 7995|  130|\n",
            "| 4000|  127|\n",
            "| 6000|  124|\n",
            "| 4995|  122|\n",
            "| 9995|  121|\n",
            "| 3000|  116|\n",
            "| 9500|  116|\n",
            "| 8995|  116|\n",
            "+-----+-----+\n",
            "only showing top 20 rows\n",
            "\n"
          ]
        }
      ]
    },
    {
      "cell_type": "markdown",
      "metadata": {
        "id": "WndzqTH6TsSN"
      },
      "source": [
        "Beaucoup de prix à 0 ou 1, et de valeurs unique.\n",
        "On va supprimer ces lignes."
      ]
    },
    {
      "cell_type": "code",
      "metadata": {
        "id": "uIG1FSlxTW3h"
      },
      "source": [
        "test = test.where(col('label')>1).where(col('count')!=1)"
      ],
      "execution_count": null,
      "outputs": []
    },
    {
      "cell_type": "markdown",
      "metadata": {
        "id": "sWG-z2RjIUvh"
      },
      "source": [
        "Statistiques sur le label (price) :"
      ]
    },
    {
      "cell_type": "code",
      "metadata": {
        "colab": {
          "base_uri": "https://localhost:8080/"
        },
        "id": "j_UQGZ3bPWEi",
        "outputId": "08f7547e-975b-410b-9250-503036ee9b63"
      },
      "source": [
        "\n",
        "test.select(\"label\").describe().show()"
      ],
      "execution_count": null,
      "outputs": [
        {
          "output_type": "stream",
          "name": "stdout",
          "text": [
            "+-------+------------------+\n",
            "|summary|             label|\n",
            "+-------+------------------+\n",
            "|  count|              1023|\n",
            "|   mean|18861.648093841643|\n",
            "| stddev|16055.805037324937|\n",
            "|    min|                 6|\n",
            "|    max|            123456|\n",
            "+-------+------------------+\n",
            "\n"
          ]
        }
      ]
    },
    {
      "cell_type": "markdown",
      "metadata": {
        "id": "GLfHNTe9u5aO"
      },
      "source": [
        "Application des modifications sur la liste de train :"
      ]
    },
    {
      "cell_type": "code",
      "metadata": {
        "id": "WL2M1kN4u12A"
      },
      "source": [
        "train_lists = train_lists.where(col('label')>1)"
      ],
      "execution_count": null,
      "outputs": []
    },
    {
      "cell_type": "code",
      "metadata": {
        "colab": {
          "base_uri": "https://localhost:8080/"
        },
        "id": "iZ2gif0sBiD5",
        "outputId": "9a09f0f5-3a93-4861-8ed3-1cddd073abc9"
      },
      "source": [
        "import matplotlib.pyplot as plt\n",
        "\n",
        "yhat = test.select(\"label\").collect()\n",
        "xhat = test.select(\"count\").collect()\n",
        "\n",
        "# Plots\n",
        "nb_points = 2000\n",
        "plt.figure(figsize=(15,5))\n",
        "plt.title(\"price\", fontweight='bold')\n",
        "plt.xlabel(\"Count\")\n",
        "plt.ylabel('Price')\n",
        "plt.plot(xhat[:nb_points], yhat[:nb_points], label='Prédiction')\n",
        "plt.legend()\n",
        "plt.show()"
      ],
      "execution_count": null,
      "outputs": [
        {
          "output_type": "display_data",
          "data": {
            "image/png": "[encoded data removed]",
            "text/plain": [
              "<Figure size 1080x360 with 1 Axes>"
            ]
          },
          "metadata": {
            "needs_background": "light"
          }
        }
      ]
    },
    {
      "cell_type": "markdown",
      "metadata": {
        "id": "95MvTN2uTHnN"
      },
      "source": [
        "Pour prédire le prix, nous allons utiliser les colonnes suivantes :\n",
        "\n",
        "year, manufacturer, odometer, model, condition, cylinders, fuel, title_status, transmission, size, type, paint_color.\n",
        "\n",
        "Il faut à présent regarder si les valeurs de ces colonnes sont exploitables :"
      ]
    },
    {
      "cell_type": "markdown",
      "metadata": {
        "id": "BvnqaZoVtMET"
      },
      "source": [
        "Paint_color :"
      ]
    },
    {
      "cell_type": "code",
      "metadata": {
        "colab": {
          "base_uri": "https://localhost:8080/"
        },
        "id": "IWEtxrY4tKPO",
        "outputId": "a0cd3189-d7c4-4529-bf9f-a367431337c3"
      },
      "source": [
        "test_paint_color = train_lists.select(col('indexed_paint_color')).groupBy(col('indexed_paint_color')).count().orderBy(col('count').desc())\n",
        "test_paint_color.select(\"indexed_paint_color\").describe().show()"
      ],
      "execution_count": null,
      "outputs": [
        {
          "output_type": "stream",
          "name": "stdout",
          "text": [
            "+-------+-------------------+\n",
            "|summary|indexed_paint_color|\n",
            "+-------+-------------------+\n",
            "|  count|                 12|\n",
            "|   mean|                5.5|\n",
            "| stddev|  3.605551275463989|\n",
            "|    min|                0.0|\n",
            "|    max|               11.0|\n",
            "+-------+-------------------+\n",
            "\n"
          ]
        }
      ]
    },
    {
      "cell_type": "code",
      "metadata": {
        "colab": {
          "base_uri": "https://localhost:8080/"
        },
        "id": "SLsmCiz_tXxV",
        "outputId": "78bf9ae3-5a4b-4af2-c8aa-b810bed4fd2e"
      },
      "source": [
        "import matplotlib.pyplot as plt\n",
        "\n",
        "yhat = test_paint_color.select(\"indexed_paint_color\").collect()\n",
        "xhat = test_paint_color.select(\"count\").collect()\n",
        "\n",
        "# Plots\n",
        "nb_points = 2000\n",
        "plt.figure(figsize=(15,5))\n",
        "plt.title(\"paint_color\", fontweight='bold')\n",
        "plt.xlabel(\"Count\")\n",
        "plt.ylabel('Paint_color')\n",
        "plt.plot(xhat[:nb_points], yhat[:nb_points], label='Prédiction')\n",
        "plt.legend()\n",
        "plt.show()"
      ],
      "execution_count": null,
      "outputs": [
        {
          "output_type": "display_data",
          "data": {
            "image/png": "[encoded data removed]",
            "text/plain": [
              "<Figure size 1080x360 with 1 Axes>"
            ]
          },
          "metadata": {
            "needs_background": "light"
          }
        }
      ]
    },
    {
      "cell_type": "markdown",
      "metadata": {
        "id": "3li7UYw1sfDK"
      },
      "source": [
        "Type :"
      ]
    },
    {
      "cell_type": "code",
      "metadata": {
        "colab": {
          "base_uri": "https://localhost:8080/"
        },
        "id": "5ByUccfWsh-P",
        "outputId": "18dac7a7-de57-411e-e1af-e147b0fdeaa8"
      },
      "source": [
        "test_type = train_lists.select(col('indexed_type')).groupBy(col('indexed_type')).count().orderBy(col('count').desc())\n",
        "test_type.select(\"indexed_type\").describe().show()"
      ],
      "execution_count": null,
      "outputs": [
        {
          "output_type": "stream",
          "name": "stdout",
          "text": [
            "+-------+------------------+\n",
            "|summary|      indexed_type|\n",
            "+-------+------------------+\n",
            "|  count|                13|\n",
            "|   mean|               6.0|\n",
            "| stddev|3.8944404818493075|\n",
            "|    min|               0.0|\n",
            "|    max|              12.0|\n",
            "+-------+------------------+\n",
            "\n"
          ]
        }
      ]
    },
    {
      "cell_type": "code",
      "metadata": {
        "colab": {
          "base_uri": "https://localhost:8080/"
        },
        "id": "xHvC3zzCscRU",
        "outputId": "b5e4caf8-69d9-4c16-a738-edf4239b7c49"
      },
      "source": [
        "import matplotlib.pyplot as plt\n",
        "\n",
        "yhat = test_type.select(\"indexed_type\").collect()\n",
        "xhat = test_type.select(\"count\").collect()\n",
        "\n",
        "# Plots\n",
        "nb_points = 2000\n",
        "plt.figure(figsize=(15,5))\n",
        "plt.title(\"type\", fontweight='bold')\n",
        "plt.xlabel(\"Count\")\n",
        "plt.ylabel('Type')\n",
        "plt.plot(xhat[:nb_points], yhat[:nb_points], label='Prédiction')\n",
        "plt.legend()\n",
        "plt.show()"
      ],
      "execution_count": null,
      "outputs": [
        {
          "output_type": "display_data",
          "data": {
            "image/png": "[encoded data removed]",
            "text/plain": [
              "<Figure size 1080x360 with 1 Axes>"
            ]
          },
          "metadata": {
            "needs_background": "light"
          }
        }
      ]
    },
    {
      "cell_type": "markdown",
      "metadata": {
        "id": "GndVJ5t6rcXT"
      },
      "source": [
        "Size :"
      ]
    },
    {
      "cell_type": "code",
      "metadata": {
        "colab": {
          "base_uri": "https://localhost:8080/"
        },
        "id": "181XiHU7rbaO",
        "outputId": "d83cac89-f731-4f41-ef09-f85bec3a7ac7"
      },
      "source": [
        "test_size = train_lists.select(col('indexed_size')).groupBy(col('indexed_size')).count().orderBy(col('count').desc())\n",
        "test_size.select(\"indexed_size\").describe().show()"
      ],
      "execution_count": null,
      "outputs": [
        {
          "output_type": "stream",
          "name": "stdout",
          "text": [
            "+-------+------------------+\n",
            "|summary|      indexed_size|\n",
            "+-------+------------------+\n",
            "|  count|                 4|\n",
            "|   mean|               1.5|\n",
            "| stddev|1.2909944487358056|\n",
            "|    min|               0.0|\n",
            "|    max|               3.0|\n",
            "+-------+------------------+\n",
            "\n"
          ]
        }
      ]
    },
    {
      "cell_type": "code",
      "metadata": {
        "colab": {
          "base_uri": "https://localhost:8080/"
        },
        "id": "9FhMJaxlrk7A",
        "outputId": "6dda3cec-3b8d-40c2-cd52-c2711ec367a3"
      },
      "source": [
        "import matplotlib.pyplot as plt\n",
        "\n",
        "yhat = test_size.select(\"indexed_size\").collect()\n",
        "xhat = test_size.select(\"count\").collect()\n",
        "\n",
        "# Plots\n",
        "nb_points = 2000\n",
        "plt.figure(figsize=(15,5))\n",
        "plt.title(\"size\", fontweight='bold')\n",
        "plt.xlabel(\"Count\")\n",
        "plt.ylabel('Size')\n",
        "plt.plot(xhat[:nb_points], yhat[:nb_points], label='Prédiction')\n",
        "plt.legend()\n",
        "plt.show()"
      ],
      "execution_count": null,
      "outputs": [
        {
          "output_type": "display_data",
          "data": {
            "image/png": "[encoded data removed]",
            "text/plain": [
              "<Figure size 1080x360 with 1 Axes>"
            ]
          },
          "metadata": {
            "needs_background": "light"
          }
        }
      ]
    },
    {
      "cell_type": "markdown",
      "metadata": {
        "id": "0-At3OCKqTC5"
      },
      "source": [
        "Transmission :"
      ]
    },
    {
      "cell_type": "code",
      "metadata": {
        "colab": {
          "base_uri": "https://localhost:8080/"
        },
        "id": "xbXbrVpxqOHx",
        "outputId": "4a4f946c-62f4-485a-9e7b-9fd173c4cd60"
      },
      "source": [
        "test_transmission = train_lists.select(col('indexed_transmission')).groupBy(col('indexed_transmission')).count().orderBy(col('count').desc())\n",
        "test_transmission.select(\"indexed_transmission\").describe().show()"
      ],
      "execution_count": null,
      "outputs": [
        {
          "output_type": "stream",
          "name": "stdout",
          "text": [
            "+-------+--------------------+\n",
            "|summary|indexed_transmission|\n",
            "+-------+--------------------+\n",
            "|  count|                   3|\n",
            "|   mean|                 1.0|\n",
            "| stddev|                 1.0|\n",
            "|    min|                 0.0|\n",
            "|    max|                 2.0|\n",
            "+-------+--------------------+\n",
            "\n"
          ]
        }
      ]
    },
    {
      "cell_type": "code",
      "metadata": {
        "colab": {
          "base_uri": "https://localhost:8080/"
        },
        "id": "gn1IL0L1qRdD",
        "outputId": "d29dca87-2169-40e0-c508-0876fdcb95c2"
      },
      "source": [
        "import matplotlib.pyplot as plt\n",
        "\n",
        "yhat = test_transmission.select(\"indexed_transmission\").collect()\n",
        "xhat = test_transmission.select(\"count\").collect()\n",
        "\n",
        "# Plots\n",
        "nb_points = 2000\n",
        "plt.figure(figsize=(15,5))\n",
        "plt.title(\"transmission\", fontweight='bold')\n",
        "plt.xlabel(\"Count\")\n",
        "plt.ylabel('Transmission')\n",
        "plt.plot(xhat[:nb_points], yhat[:nb_points], label='Prédiction')\n",
        "plt.legend()\n",
        "plt.show()"
      ],
      "execution_count": null,
      "outputs": [
        {
          "output_type": "display_data",
          "data": {
            "image/png": "[encoded data removed]",
            "text/plain": [
              "<Figure size 1080x360 with 1 Axes>"
            ]
          },
          "metadata": {
            "needs_background": "light"
          }
        }
      ]
    },
    {
      "cell_type": "markdown",
      "metadata": {
        "id": "dot5nZyOpE30"
      },
      "source": [
        "Title_status :"
      ]
    },
    {
      "cell_type": "code",
      "metadata": {
        "colab": {
          "base_uri": "https://localhost:8080/"
        },
        "id": "iTQJxwAzpHzE",
        "outputId": "05db5c8b-54be-4d51-a7a0-ad458d40409d"
      },
      "source": [
        "test_title_status = train_lists.select(col('indexed_title_status')).groupBy(col('indexed_title_status')).count().orderBy(col('count').desc())\n",
        "test_title_status.select(\"indexed_title_status\").describe().show()"
      ],
      "execution_count": null,
      "outputs": [
        {
          "output_type": "stream",
          "name": "stdout",
          "text": [
            "+-------+--------------------+\n",
            "|summary|indexed_title_status|\n",
            "+-------+--------------------+\n",
            "|  count|                   6|\n",
            "|   mean|                 2.5|\n",
            "| stddev|  1.8708286933869707|\n",
            "|    min|                 0.0|\n",
            "|    max|                 5.0|\n",
            "+-------+--------------------+\n",
            "\n"
          ]
        }
      ]
    },
    {
      "cell_type": "code",
      "metadata": {
        "colab": {
          "base_uri": "https://localhost:8080/"
        },
        "id": "auCbhnOSpQ5x",
        "outputId": "4f3ba0a3-9e71-4c12-b55c-0d77a0473b60"
      },
      "source": [
        "import matplotlib.pyplot as plt\n",
        "\n",
        "yhat = test_title_status.select(\"indexed_title_status\").collect()\n",
        "xhat = test_title_status.select(\"count\").collect()\n",
        "\n",
        "# Plots\n",
        "nb_points = 2000\n",
        "plt.figure(figsize=(15,5))\n",
        "plt.title(\"title_status\", fontweight='bold')\n",
        "plt.xlabel(\"Count\")\n",
        "plt.ylabel('Title_status')\n",
        "plt.plot(xhat[:nb_points], yhat[:nb_points], label='Prédiction')\n",
        "plt.legend()\n",
        "plt.show()"
      ],
      "execution_count": null,
      "outputs": [
        {
          "output_type": "display_data",
          "data": {
            "image/png": "[encoded data removed]",
            "text/plain": [
              "<Figure size 1080x360 with 1 Axes>"
            ]
          },
          "metadata": {
            "needs_background": "light"
          }
        }
      ]
    },
    {
      "cell_type": "markdown",
      "metadata": {
        "id": "3Y_EPmLEordQ"
      },
      "source": [
        "Fuel :"
      ]
    },
    {
      "cell_type": "code",
      "metadata": {
        "colab": {
          "base_uri": "https://localhost:8080/"
        },
        "id": "Q2lktBafoqzx",
        "outputId": "6870ce8d-abc4-406e-e9ab-950545fe4a29"
      },
      "source": [
        "test_fuel = train_lists.select(col('indexed_fuel')).groupBy(col('indexed_fuel')).count().orderBy(col('count').desc())\n",
        "test_fuel.select(\"indexed_fuel\").describe().show()"
      ],
      "execution_count": null,
      "outputs": [
        {
          "output_type": "stream",
          "name": "stdout",
          "text": [
            "+-------+------------------+\n",
            "|summary|      indexed_fuel|\n",
            "+-------+------------------+\n",
            "|  count|                 5|\n",
            "|   mean|               2.0|\n",
            "| stddev|1.5811388300841898|\n",
            "|    min|               0.0|\n",
            "|    max|               4.0|\n",
            "+-------+------------------+\n",
            "\n"
          ]
        }
      ]
    },
    {
      "cell_type": "code",
      "metadata": {
        "colab": {
          "base_uri": "https://localhost:8080/"
        },
        "id": "OyCT3WXDo0M4",
        "outputId": "5555d780-5fbc-40e1-a3db-79bb25325b59"
      },
      "source": [
        "import matplotlib.pyplot as plt\n",
        "\n",
        "yhat = test_fuel.select(\"indexed_fuel\").collect()\n",
        "xhat = test_fuel.select(\"count\").collect()\n",
        "\n",
        "# Plots\n",
        "nb_points = 2000\n",
        "plt.figure(figsize=(15,5))\n",
        "plt.title(\"fuel\", fontweight='bold')\n",
        "plt.xlabel(\"Count\")\n",
        "plt.ylabel('Fuel')\n",
        "plt.plot(xhat[:nb_points], yhat[:nb_points], label='Prédiction')\n",
        "plt.legend()\n",
        "plt.show()"
      ],
      "execution_count": null,
      "outputs": [
        {
          "output_type": "display_data",
          "data": {
            "image/png": "[encoded data removed]",
            "text/plain": [
              "<Figure size 1080x360 with 1 Axes>"
            ]
          },
          "metadata": {
            "needs_background": "light"
          }
        }
      ]
    },
    {
      "cell_type": "markdown",
      "metadata": {
        "id": "1Y5tINQXoG4z"
      },
      "source": [
        "Cylinders :"
      ]
    },
    {
      "cell_type": "code",
      "metadata": {
        "colab": {
          "base_uri": "https://localhost:8080/"
        },
        "id": "rc0cLizgoLLM",
        "outputId": "609273a2-3966-4373-8540-6058a4bc5db5"
      },
      "source": [
        "test_cylinders = train_lists.select(col('indexed_cylinders')).groupBy(col('indexed_cylinders')).count().orderBy(col('count').desc())\n",
        "test_cylinders.select(\"indexed_cylinders\").describe().show()"
      ],
      "execution_count": null,
      "outputs": [
        {
          "output_type": "stream",
          "name": "stdout",
          "text": [
            "+-------+-----------------+\n",
            "|summary|indexed_cylinders|\n",
            "+-------+-----------------+\n",
            "|  count|                8|\n",
            "|   mean|              3.5|\n",
            "| stddev|2.449489742783178|\n",
            "|    min|              0.0|\n",
            "|    max|              7.0|\n",
            "+-------+-----------------+\n",
            "\n"
          ]
        }
      ]
    },
    {
      "cell_type": "code",
      "metadata": {
        "colab": {
          "base_uri": "https://localhost:8080/"
        },
        "id": "X9gORawOobp0",
        "outputId": "cab587a4-7d92-465a-a58b-2fd99581a4ab"
      },
      "source": [
        "import matplotlib.pyplot as plt\n",
        "\n",
        "yhat = test_cylinders.select(\"indexed_cylinders\").collect()\n",
        "xhat = test_cylinders.select(\"count\").collect()\n",
        "\n",
        "# Plots\n",
        "nb_points = 2000\n",
        "plt.figure(figsize=(15,5))\n",
        "plt.title(\"cylinders\", fontweight='bold')\n",
        "plt.xlabel(\"Count\")\n",
        "plt.ylabel('Cylinders')\n",
        "plt.plot(xhat[:nb_points], yhat[:nb_points], label='Prédiction')\n",
        "plt.legend()\n",
        "plt.show()"
      ],
      "execution_count": null,
      "outputs": [
        {
          "output_type": "display_data",
          "data": {
            "image/png": "[encoded data removed]",
            "text/plain": [
              "<Figure size 1080x360 with 1 Axes>"
            ]
          },
          "metadata": {
            "needs_background": "light"
          }
        }
      ]
    },
    {
      "cell_type": "markdown",
      "metadata": {
        "id": "sQuottLan6Ig"
      },
      "source": [
        "Condition :"
      ]
    },
    {
      "cell_type": "code",
      "metadata": {
        "colab": {
          "base_uri": "https://localhost:8080/"
        },
        "id": "2ZXp1fMWnmeW",
        "outputId": "60e79172-7172-49d4-b2e2-ab1d66f45b20"
      },
      "source": [
        "test_condition = train_lists.select(col('indexed_condition')).groupBy(col('indexed_condition')).count().orderBy(col('count').desc())\n",
        "test_condition.select(\"indexed_condition\").describe().show()"
      ],
      "execution_count": null,
      "outputs": [
        {
          "output_type": "stream",
          "name": "stdout",
          "text": [
            "+-------+------------------+\n",
            "|summary| indexed_condition|\n",
            "+-------+------------------+\n",
            "|  count|                 6|\n",
            "|   mean|               2.5|\n",
            "| stddev|1.8708286933869707|\n",
            "|    min|               0.0|\n",
            "|    max|               5.0|\n",
            "+-------+------------------+\n",
            "\n"
          ]
        }
      ]
    },
    {
      "cell_type": "code",
      "metadata": {
        "colab": {
          "base_uri": "https://localhost:8080/"
        },
        "id": "OXetZ9Rjn3ac",
        "outputId": "4e177603-1f73-4480-c177-fdd3d4078213"
      },
      "source": [
        "import matplotlib.pyplot as plt\n",
        "\n",
        "yhat = test_condition.select(\"indexed_condition\").collect()\n",
        "xhat = test_condition.select(\"count\").collect()\n",
        "\n",
        "# Plots\n",
        "nb_points = 2000\n",
        "plt.figure(figsize=(15,5))\n",
        "plt.title(\"condition\", fontweight='bold')\n",
        "plt.xlabel(\"Count\")\n",
        "plt.ylabel('Condition')\n",
        "plt.plot(xhat[:nb_points], yhat[:nb_points], label='Prédiction')\n",
        "plt.legend()\n",
        "plt.show()"
      ],
      "execution_count": null,
      "outputs": [
        {
          "output_type": "display_data",
          "data": {
            "image/png": "[encoded data removed]",
            "text/plain": [
              "<Figure size 1080x360 with 1 Axes>"
            ]
          },
          "metadata": {
            "needs_background": "light"
          }
        }
      ]
    },
    {
      "cell_type": "markdown",
      "metadata": {
        "id": "hMlM-BulTrUl"
      },
      "source": [
        "Year :"
      ]
    },
    {
      "cell_type": "code",
      "metadata": {
        "id": "OSpqbrvfThzG"
      },
      "source": [
        "test_year = train_lists.select(col('indexed_year')).groupBy(col('indexed_year')).count().orderBy(col('count').desc())"
      ],
      "execution_count": null,
      "outputs": []
    },
    {
      "cell_type": "code",
      "metadata": {
        "colab": {
          "base_uri": "https://localhost:8080/"
        },
        "id": "VuKBAq8QUKMF",
        "outputId": "a30d619d-13cc-4041-a44c-41a603716bb2"
      },
      "source": [
        "test_year.select(\"indexed_year\").describe().show()"
      ],
      "execution_count": null,
      "outputs": [
        {
          "output_type": "stream",
          "name": "stdout",
          "text": [
            "+-------+------------------+\n",
            "|summary|      indexed_year|\n",
            "+-------+------------------+\n",
            "|  count|                92|\n",
            "|   mean|              45.5|\n",
            "| stddev|26.702059845637375|\n",
            "|    min|               0.0|\n",
            "|    max|              91.0|\n",
            "+-------+------------------+\n",
            "\n"
          ]
        }
      ]
    },
    {
      "cell_type": "code",
      "metadata": {
        "colab": {
          "base_uri": "https://localhost:8080/"
        },
        "id": "MA1v79oKUZfw",
        "outputId": "64454677-9297-47fc-cb46-81bd205f693f"
      },
      "source": [
        "import matplotlib.pyplot as plt\n",
        "\n",
        "yhat = test_year.select(\"indexed_year\").collect()\n",
        "xhat = test_year.select(\"count\").collect()\n",
        "\n",
        "# Plots\n",
        "nb_points = 2000\n",
        "plt.figure(figsize=(15,5))\n",
        "plt.title(\"year\", fontweight='bold')\n",
        "plt.xlabel(\"Count\")\n",
        "plt.ylabel('Year')\n",
        "plt.plot(xhat[:nb_points], yhat[:nb_points], label='Prédiction')\n",
        "plt.legend()\n",
        "plt.show()"
      ],
      "execution_count": null,
      "outputs": [
        {
          "output_type": "display_data",
          "data": {
            "image/png": "[encoded data removed]",
            "text/plain": [
              "<Figure size 1080x360 with 1 Axes>"
            ]
          },
          "metadata": {
            "needs_background": "light"
          }
        }
      ]
    },
    {
      "cell_type": "markdown",
      "metadata": {
        "id": "wtyJw7W6U9-A"
      },
      "source": [
        "Manufacturer :"
      ]
    },
    {
      "cell_type": "code",
      "metadata": {
        "colab": {
          "base_uri": "https://localhost:8080/"
        },
        "id": "RxEf3z5tU9T-",
        "outputId": "17158f38-f9d8-46f3-d350-2df5f75e17da"
      },
      "source": [
        "test_manufacturer = train_lists.select(col('indexed_manufacturer')).groupBy(col('indexed_manufacturer')).count().orderBy(col('count').desc())\n",
        "test_manufacturer.select(\"indexed_manufacturer\").describe().show()"
      ],
      "execution_count": null,
      "outputs": [
        {
          "output_type": "stream",
          "name": "stdout",
          "text": [
            "+-------+--------------------+\n",
            "|summary|indexed_manufacturer|\n",
            "+-------+--------------------+\n",
            "|  count|                  41|\n",
            "|   mean|                20.0|\n",
            "| stddev|  11.979148550710939|\n",
            "|    min|                 0.0|\n",
            "|    max|                40.0|\n",
            "+-------+--------------------+\n",
            "\n"
          ]
        }
      ]
    },
    {
      "cell_type": "code",
      "metadata": {
        "colab": {
          "base_uri": "https://localhost:8080/"
        },
        "id": "rRBbtVTxVQCV",
        "outputId": "39fd4080-daa9-4192-ad10-ea1378383823"
      },
      "source": [
        "import matplotlib.pyplot as plt\n",
        "\n",
        "yhat = test_manufacturer.select(\"indexed_manufacturer\").collect()\n",
        "xhat = test_manufacturer.select(\"count\").collect()\n",
        "\n",
        "# Plots\n",
        "nb_points = 2000\n",
        "plt.figure(figsize=(15,5))\n",
        "plt.title(\"manufacturer\", fontweight='bold')\n",
        "plt.xlabel(\"Count\")\n",
        "plt.ylabel('Manufacturer')\n",
        "plt.plot(xhat[:nb_points], yhat[:nb_points], label='Prédiction')\n",
        "plt.legend()\n",
        "plt.show()"
      ],
      "execution_count": null,
      "outputs": [
        {
          "output_type": "display_data",
          "data": {
            "image/png": "[encoded data removed]",
            "text/plain": [
              "<Figure size 1080x360 with 1 Axes>"
            ]
          },
          "metadata": {
            "needs_background": "light"
          }
        }
      ]
    },
    {
      "cell_type": "markdown",
      "metadata": {
        "id": "LkEDfiDjWcJh"
      },
      "source": [
        "Odometer :"
      ]
    },
    {
      "cell_type": "code",
      "metadata": {
        "colab": {
          "base_uri": "https://localhost:8080/"
        },
        "id": "iORyueDLVsnq",
        "outputId": "b1f908f5-6bdc-4680-9dfc-d0ef435db7d6"
      },
      "source": [
        "test_odometer = train_lists.select(col('odometer')).groupBy(col('odometer')).count().orderBy(col('count').desc())\n",
        "test_odometer.select(\"odometer\").describe().show()"
      ],
      "execution_count": null,
      "outputs": [
        {
          "output_type": "stream",
          "name": "stdout",
          "text": [
            "+-------+------------------+\n",
            "|summary|          odometer|\n",
            "+-------+------------------+\n",
            "|  count|              7621|\n",
            "|   mean|121919.52867077812|\n",
            "| stddev|227664.95384370655|\n",
            "|    min|                 0|\n",
            "|    max|          10000000|\n",
            "+-------+------------------+\n",
            "\n"
          ]
        }
      ]
    },
    {
      "cell_type": "code",
      "metadata": {
        "colab": {
          "base_uri": "https://localhost:8080/"
        },
        "id": "xMuqUczOWrxK",
        "outputId": "19b23db5-df47-4697-c7a1-6eb1ded05eaf"
      },
      "source": [
        "import matplotlib.pyplot as plt\n",
        "\n",
        "yhat = test_odometer.select(\"odometer\").collect()\n",
        "xhat = test_odometer.select(\"count\").collect()\n",
        "\n",
        "# Plots\n",
        "nb_points = 2000\n",
        "plt.figure(figsize=(15,5))\n",
        "plt.title(\"odometer\", fontweight='bold')\n",
        "plt.xlabel(\"Count\")\n",
        "plt.ylabel('Odometer')\n",
        "plt.plot(xhat[:nb_points], yhat[:nb_points], label='Prédiction')\n",
        "plt.legend()\n",
        "plt.show()"
      ],
      "execution_count": null,
      "outputs": [
        {
          "output_type": "display_data",
          "data": {
            "image/png": "[encoded data removed]",
            "text/plain": [
              "<Figure size 1080x360 with 1 Axes>"
            ]
          },
          "metadata": {
            "needs_background": "light"
          }
        }
      ]
    },
    {
      "cell_type": "markdown",
      "metadata": {
        "id": "AGFAKIl9bXn5"
      },
      "source": [
        "Model :"
      ]
    },
    {
      "cell_type": "code",
      "metadata": {
        "colab": {
          "base_uri": "https://localhost:8080/"
        },
        "id": "iiAf-6IabRk7",
        "outputId": "8483db0d-cb63-4a0f-8834-a6638af90652"
      },
      "source": [
        "test_model = train_lists.select(col('indexed_model')).groupBy(col('indexed_model')).count().orderBy(col('count').desc())\n",
        "test_model.select(\"indexed_model\").describe().show()"
      ],
      "execution_count": null,
      "outputs": [
        {
          "output_type": "stream",
          "name": "stdout",
          "text": [
            "+-------+------------------+\n",
            "|summary|     indexed_model|\n",
            "+-------+------------------+\n",
            "|  count|              3785|\n",
            "|   mean|1931.5270805812418|\n",
            "| stddev|1127.5966103228527|\n",
            "|    min|               0.0|\n",
            "|    max|            3904.0|\n",
            "+-------+------------------+\n",
            "\n"
          ]
        }
      ]
    },
    {
      "cell_type": "code",
      "metadata": {
        "colab": {
          "base_uri": "https://localhost:8080/"
        },
        "id": "WjWMNAJBbhOh",
        "outputId": "00512e34-e141-4adf-fe42-4a032131d06d"
      },
      "source": [
        "import matplotlib.pyplot as plt\n",
        "\n",
        "yhat = test_model.select(\"indexed_model\").collect()\n",
        "xhat = test_model.select(\"count\").collect()\n",
        "\n",
        "# Plots\n",
        "nb_points = 2000\n",
        "plt.figure(figsize=(15,5))\n",
        "plt.title(\"model\", fontweight='bold')\n",
        "plt.xlabel(\"Count\")\n",
        "plt.ylabel('Model')\n",
        "plt.plot(xhat[:nb_points], yhat[:nb_points], label='Prédiction')\n",
        "plt.legend()\n",
        "plt.show()"
      ],
      "execution_count": null,
      "outputs": [
        {
          "output_type": "display_data",
          "data": {
            "image/png": "[encoded data removed]",
            "text/plain": [
              "<Figure size 1080x360 with 1 Axes>"
            ]
          },
          "metadata": {
            "needs_background": "light"
          }
        }
      ]
    },
    {
      "cell_type": "markdown",
      "metadata": {
        "id": "-S586QF10PBP"
      },
      "source": [
        "Nous avons pu voir que les données sélectionnées sont exploitables :"
      ]
    },
    {
      "cell_type": "code",
      "metadata": {
        "id": "M3C5IorlniRm"
      },
      "source": [
        "train_lists_norm = train_lists.drop('region', 'indexed_region', 'onehot_region', 'drive', 'indexed_drive', 'onehot_drive', 'state', 'indexed_state', 'onehot_state' )"
      ],
      "execution_count": null,
      "outputs": []
    },
    {
      "cell_type": "code",
      "metadata": {
        "colab": {
          "base_uri": "https://localhost:8080/"
        },
        "id": "VKCTopNL2HVz",
        "outputId": "18101034-c24a-4ffd-952c-78644575bb99"
      },
      "source": [
        "train_lists.show()"
      ],
      "execution_count": null,
      "outputs": [
        {
          "output_type": "stream",
          "name": "stdout",
          "text": [
            "+----+------------+--------------------+---------+-----------+------+--------+------------+------------+---------+-----------+-----------+-----+------------+--------------------+-------------+-----------------+-----------------+------------+--------------------+--------------------+------------+------------+-------------------+---------------+-------------------+-------------------+----------------+----------------+-------------+-------------------+-------------------+-------------+--------------+------------------+--------------------+--------------------+\n",
            "|year|manufacturer|               model|condition|  cylinders|  fuel|odometer|title_status|transmission|     size|       type|paint_color|label|indexed_year|indexed_manufacturer|indexed_model|indexed_condition|indexed_cylinders|indexed_fuel|indexed_title_status|indexed_transmission|indexed_size|indexed_type|indexed_paint_color|    onehot_year|onehot_manufacturer|       onehot_model|onehot_condition|onehot_cylinders|  onehot_fuel|onehot_title_status|onehot_transmission|  onehot_size|   onehot_type|onehot_paint_color|      features_assem|      features_final|\n",
            "+----+------------+--------------------+---------+-----------+------+--------+------------+------------+---------+-----------+-----------+-----+------------+--------------------+-------------+-----------------+-----------------+------------+--------------------+--------------------+------------+------------+-------------------+---------------+-------------------+-------------------+----------------+----------------+-------------+-------------------+-------------------+-------------+--------------+------------------+--------------------+--------------------+\n",
            "|2006|        jeep|grand cherokee la...|     good|6 cylinders|   gas|  281000|       clean|   automatic| mid-size|        SUV|      black| 4000|         9.0|                 6.0|        103.0|              1.0|              0.0|         0.0|                 0.0|                 0.0|         1.0|         1.0|                1.0| (92,[9],[1.0])|     (41,[6],[1.0])| (3905,[103],[1.0])|   (6,[1],[1.0])|   (8,[0],[1.0])|(5,[0],[1.0])|      (6,[0],[1.0])|      (3,[0],[1.0])|(4,[1],[1.0])|(13,[1],[1.0])|    (12,[1],[1.0])|(4097,[0,10,99,23...|(4097,[0,10,99,23...|\n",
            "|2002|        ford|         thunderbird|      new|8 cylinders|   gas|   15996|       clean|   automatic|  compact|convertible|     yellow|21250|        17.0|                 0.0|        144.0|              4.0|              2.0|         0.0|                 0.0|                 0.0|         2.0|         7.0|                9.0|(92,[17],[1.0])|     (41,[0],[1.0])| (3905,[144],[1.0])|   (6,[4],[1.0])|   (8,[2],[1.0])|(5,[0],[1.0])|      (6,[0],[1.0])|      (3,[0],[1.0])|(4,[2],[1.0])|(13,[7],[1.0])|    (12,[9],[1.0])|(4097,[0,18,93,27...|(4097,[0,18,93,27...|\n",
            "|2004|   chevrolet|              blazer|     good|6 cylinders|   gas|  131500|       clean|   automatic| mid-size|        SUV|      white| 3000|        14.0|                 1.0|        234.0|              1.0|              0.0|         0.0|                 0.0|                 0.0|         1.0|         1.0|                0.0|(92,[14],[1.0])|     (41,[1],[1.0])| (3905,[234],[1.0])|   (6,[1],[1.0])|   (8,[0],[1.0])|(5,[0],[1.0])|      (6,[0],[1.0])|      (3,[0],[1.0])|(4,[1],[1.0])|(13,[1],[1.0])|    (12,[0],[1.0])|(4097,[0,15,94,36...|(4097,[0,15,94,36...|\n",
            "|1955|   chevrolet|             bel air|     good|8 cylinders|   gas|   96867|       clean|   automatic|full-size|      sedan|      green|19950|        53.0|                 1.0|       1948.0|              1.0|              2.0|         0.0|                 0.0|                 0.0|         0.0|         0.0|                6.0|(92,[53],[1.0])|     (41,[1],[1.0])|(3905,[1948],[1.0])|   (6,[1],[1.0])|   (8,[2],[1.0])|(5,[0],[1.0])|      (6,[0],[1.0])|      (3,[0],[1.0])|(4,[0],[1.0])|(13,[0],[1.0])|    (12,[6],[1.0])|(4097,[0,54,94,20...|(4097,[0,54,94,20...|\n",
            "|2014|      toyota|      prius v hybrid|     good|4 cylinders|   gas|  136128|       clean|   automatic| mid-size|  hatchback|      white| 9500|         2.0|                 2.0|        938.0|              1.0|              1.0|         0.0|                 0.0|                 0.0|         1.0|         5.0|                0.0| (92,[2],[1.0])|     (41,[2],[1.0])| (3905,[938],[1.0])|   (6,[1],[1.0])|   (8,[1],[1.0])|(5,[0],[1.0])|      (6,[0],[1.0])|      (3,[0],[1.0])|(4,[1],[1.0])|(13,[5],[1.0])|    (12,[0],[1.0])|(4097,[0,3,95,107...|(4097,[0,3,95,107...|\n",
            "|2014|         gmc|sierra 2500hd denali|excellent|8 cylinders|diesel|  154289|       clean|   automatic|full-size|      truck|      black|45950|         2.0|                 5.0|        966.0|              0.0|              2.0|         1.0|                 0.0|                 0.0|         0.0|         2.0|                1.0| (92,[2],[1.0])|     (41,[5],[1.0])| (3905,[966],[1.0])|   (6,[0],[1.0])|   (8,[2],[1.0])|(5,[1],[1.0])|      (6,[0],[1.0])|      (3,[0],[1.0])|(4,[0],[1.0])|(13,[2],[1.0])|    (12,[1],[1.0])|(4097,[0,3,98,110...|(4097,[0,3,98,110...|\n",
            "|2015|         gmc|      1500 yukon slt|     good|8 cylinders|   gas|  109947|       clean|   automatic|full-size|        SUV|      white|31888|         1.0|                 5.0|       1031.0|              1.0|              2.0|         0.0|                 0.0|                 0.0|         0.0|         1.0|                0.0| (92,[1],[1.0])|     (41,[5],[1.0])|(3905,[1031],[1.0])|   (6,[1],[1.0])|   (8,[2],[1.0])|(5,[0],[1.0])|      (6,[0],[1.0])|      (3,[0],[1.0])|(4,[0],[1.0])|(13,[1],[1.0])|    (12,[0],[1.0])|(4097,[0,2,98,116...|(4097,[0,2,98,116...|\n",
            "|2008|       acura|                  tl|     good|6 cylinders|   gas|  242000|       clean|   automatic| mid-size|      sedan|       grey| 3500|         5.0|                21.0|         75.0|              1.0|              0.0|         0.0|                 0.0|                 0.0|         1.0|         0.0|                3.0| (92,[5],[1.0])|    (41,[21],[1.0])|  (3905,[75],[1.0])|   (6,[1],[1.0])|   (8,[0],[1.0])|(5,[0],[1.0])|      (6,[0],[1.0])|      (3,[0],[1.0])|(4,[1],[1.0])|(13,[0],[1.0])|    (12,[3],[1.0])|(4097,[0,6,114,20...|(4097,[0,6,114,20...|\n",
            "|2008|      toyota|      fj cruiser 4x4|     good|6 cylinders|   gas|  188096|       clean|   automatic| mid-size|        SUV|     yellow|16888|         5.0|                 2.0|        379.0|              1.0|              0.0|         0.0|                 0.0|                 0.0|         1.0|         1.0|                9.0| (92,[5],[1.0])|     (41,[2],[1.0])| (3905,[379],[1.0])|   (6,[1],[1.0])|   (8,[0],[1.0])|(5,[0],[1.0])|      (6,[0],[1.0])|      (3,[0],[1.0])|(4,[1],[1.0])|(13,[1],[1.0])|    (12,[9],[1.0])|(4097,[0,6,95,513...|(4097,[0,6,95,513...|\n",
            "|2011|    cadillac|            escalade|     good|8 cylinders|   gas|  133257|       clean|   automatic|full-size|        SUV|      white|19900|         3.0|                18.0|        114.0|              1.0|              2.0|         0.0|                 0.0|                 0.0|         0.0|         1.0|                0.0| (92,[3],[1.0])|    (41,[18],[1.0])| (3905,[114],[1.0])|   (6,[1],[1.0])|   (8,[2],[1.0])|(5,[0],[1.0])|      (6,[0],[1.0])|      (3,[0],[1.0])|(4,[0],[1.0])|(13,[1],[1.0])|    (12,[0],[1.0])|(4097,[0,4,111,24...|(4097,[0,4,111,24...|\n",
            "|2013|       mazda|              sx4 se| like new|4 cylinders|   gas|   91000|       clean|   automatic|  compact|      sedan|        red| 5999|         0.0|                20.0|       3597.0|              2.0|              1.0|         0.0|                 0.0|                 0.0|         2.0|         0.0|                5.0| (92,[0],[1.0])|    (41,[20],[1.0])|(3905,[3597],[1.0])|   (6,[2],[1.0])|   (8,[1],[1.0])|(5,[0],[1.0])|      (6,[0],[1.0])|      (3,[0],[1.0])|(4,[2],[1.0])|(13,[0],[1.0])|    (12,[5],[1.0])|(4097,[0,1,113,37...|(4097,[0,1,113,37...|\n",
            "|2015|         gmc|      1500 yukon slt|     good|8 cylinders|   gas|  109947|       clean|   automatic|full-size|        SUV|      white|31888|         1.0|                 5.0|       1031.0|              1.0|              2.0|         0.0|                 0.0|                 0.0|         0.0|         1.0|                0.0| (92,[1],[1.0])|     (41,[5],[1.0])|(3905,[1031],[1.0])|   (6,[1],[1.0])|   (8,[2],[1.0])|(5,[0],[1.0])|      (6,[0],[1.0])|      (3,[0],[1.0])|(4,[0],[1.0])|(13,[1],[1.0])|    (12,[0],[1.0])|(4097,[0,2,98,116...|(4097,[0,2,98,116...|\n",
            "|2017|        ford|         transit 150|excellent|6 cylinders|   gas|  108482|       clean|   automatic|full-size|        van|      white|23900|        10.0|                 0.0|        354.0|              0.0|              0.0|         0.0|                 0.0|                 0.0|         0.0|         6.0|                0.0|(92,[10],[1.0])|     (41,[0],[1.0])| (3905,[354],[1.0])|   (6,[0],[1.0])|   (8,[0],[1.0])|(5,[0],[1.0])|      (6,[0],[1.0])|      (3,[0],[1.0])|(4,[0],[1.0])|(13,[6],[1.0])|    (12,[0],[1.0])|(4097,[0,11,93,48...|(4097,[0,11,93,48...|\n",
            "|2020|    infiniti|          qx 50 luxe| like new|4 cylinders|   gas|    4230|       clean|      manual|full-size|        SUV|      white|37500|        19.0|                22.0|       3213.0|              2.0|              1.0|         0.0|                 0.0|                 1.0|         0.0|         1.0|                0.0|(92,[19],[1.0])|    (41,[22],[1.0])|(3905,[3213],[1.0])|   (6,[2],[1.0])|   (8,[1],[1.0])|(5,[0],[1.0])|      (6,[0],[1.0])|      (3,[1],[1.0])|(4,[0],[1.0])|(13,[1],[1.0])|    (12,[0],[1.0])|(4097,[0,20,115,3...|(4097,[0,20,115,3...|\n",
            "|2010|       mazda|                  3i|     good|4 cylinders|   gas|  165255|     rebuilt|   automatic| mid-size|      sedan|       grey| 6900|         8.0|                20.0|       1748.0|              1.0|              1.0|         0.0|                 1.0|                 0.0|         1.0|         0.0|                3.0| (92,[8],[1.0])|    (41,[20],[1.0])|(3905,[1748],[1.0])|   (6,[1],[1.0])|   (8,[1],[1.0])|(5,[0],[1.0])|      (6,[1],[1.0])|      (3,[0],[1.0])|(4,[1],[1.0])|(13,[0],[1.0])|    (12,[3],[1.0])|(4097,[0,9,113,18...|(4097,[0,9,113,18...|\n",
            "|2011|        ford|super duty f-450 drw|     good|8 cylinders|diesel|  137481|       clean|   automatic|full-size|      truck|      white|29990|         3.0|                 0.0|        181.0|              1.0|              2.0|         1.0|                 0.0|                 0.0|         0.0|         2.0|                0.0| (92,[3],[1.0])|     (41,[0],[1.0])| (3905,[181],[1.0])|   (6,[1],[1.0])|   (8,[2],[1.0])|(5,[1],[1.0])|      (6,[0],[1.0])|      (3,[0],[1.0])|(4,[0],[1.0])|(13,[2],[1.0])|    (12,[0],[1.0])|(4097,[0,4,93,315...|(4097,[0,4,93,315...|\n",
            "|2016|   chevrolet|express commercia...|     good|8 cylinders|   gas|   75734|       clean|   automatic|full-size|      truck|      white|26990|         7.0|                 1.0|        188.0|              1.0|              2.0|         0.0|                 0.0|                 0.0|         0.0|         2.0|                0.0| (92,[7],[1.0])|     (41,[1],[1.0])| (3905,[188],[1.0])|   (6,[1],[1.0])|   (8,[2],[1.0])|(5,[0],[1.0])|      (6,[0],[1.0])|      (3,[0],[1.0])|(4,[0],[1.0])|(13,[2],[1.0])|    (12,[0],[1.0])|(4097,[0,8,94,322...|(4097,[0,8,94,322...|\n",
            "|2006|  mitsubishi|          fuso fe145|     good|4 cylinders|diesel|   96626|       clean|   automatic|full-size|      truck|      green|27490|         9.0|                26.0|        296.0|              1.0|              1.0|         1.0|                 0.0|                 0.0|         0.0|         2.0|                6.0| (92,[9],[1.0])|    (41,[26],[1.0])| (3905,[296],[1.0])|   (6,[1],[1.0])|   (8,[1],[1.0])|(5,[1],[1.0])|      (6,[0],[1.0])|      (3,[0],[1.0])|(4,[0],[1.0])|(13,[2],[1.0])|    (12,[6],[1.0])|(4097,[0,10,119,4...|(4097,[0,10,119,4...|\n",
            "|2014|        ford|super duty f-550 drw|     good|8 cylinders|diesel|   15886|       clean|   automatic|full-size|      truck|      white|52990|         2.0|                 0.0|         34.0|              1.0|              2.0|         1.0|                 0.0|                 0.0|         0.0|         2.0|                0.0| (92,[2],[1.0])|     (41,[0],[1.0])|  (3905,[34],[1.0])|   (6,[1],[1.0])|   (8,[2],[1.0])|(5,[1],[1.0])|      (6,[0],[1.0])|      (3,[0],[1.0])|(4,[0],[1.0])|(13,[2],[1.0])|    (12,[0],[1.0])|(4097,[0,3,93,168...|(4097,[0,3,93,168...|\n",
            "|2011|        ford|               f-750|     good|6 cylinders|diesel|  123622|       clean|   automatic|full-size|      truck|      white|27990|         3.0|                 0.0|        378.0|              1.0|              0.0|         1.0|                 0.0|                 0.0|         0.0|         2.0|                0.0| (92,[3],[1.0])|     (41,[0],[1.0])| (3905,[378],[1.0])|   (6,[1],[1.0])|   (8,[0],[1.0])|(5,[1],[1.0])|      (6,[0],[1.0])|      (3,[0],[1.0])|(4,[0],[1.0])|(13,[2],[1.0])|    (12,[0],[1.0])|(4097,[0,4,93,512...|(4097,[0,4,93,512...|\n",
            "+----+------------+--------------------+---------+-----------+------+--------+------------+------------+---------+-----------+-----------+-----+------------+--------------------+-------------+-----------------+-----------------+------------+--------------------+--------------------+------------+------------+-------------------+---------------+-------------------+-------------------+----------------+----------------+-------------+-------------------+-------------------+-------------+--------------+------------------+--------------------+--------------------+\n",
            "only showing top 20 rows\n",
            "\n"
          ]
        }
      ]
    },
    {
      "cell_type": "markdown",
      "metadata": {
        "id": "KyYKSe2beolW"
      },
      "source": [
        "# Test de différents modèles de prédiction."
      ]
    },
    {
      "cell_type": "code",
      "metadata": {
        "id": "XgWKW5MePxp_",
        "colab": {
          "base_uri": "https://localhost:8080/"
        },
        "outputId": "7fdc5745-6431-4b8e-a899-9c61bae3e486"
      },
      "source": [
        "(trainingData, testData) = train_lists_norm.randomSplit([0.7, 0.3], seed = 100)\n",
        "\n",
        "print(\"Training Dataset Count: \" + str(trainingData.count()))\n",
        "print(\"Test Dataset Count: \" + str(testData.count()))"
      ],
      "execution_count": null,
      "outputs": [
        {
          "output_type": "stream",
          "name": "stdout",
          "text": [
            "Training Dataset Count: 10289\n",
            "Test Dataset Count: 4461\n"
          ]
        }
      ]
    },
    {
      "cell_type": "markdown",
      "metadata": {
        "id": "QwqiRPPFrMqK"
      },
      "source": [
        "## Application de modèles :"
      ]
    },
    {
      "cell_type": "markdown",
      "metadata": {
        "id": "ygbZ652Xe_is"
      },
      "source": [
        "DecisionTreeRegressor :"
      ]
    },
    {
      "cell_type": "code",
      "metadata": {
        "colab": {
          "base_uri": "https://localhost:8080/"
        },
        "id": "3KmBhuotPtRd",
        "outputId": "540c272d-b5ac-4a76-ed4e-84207e4f9fc5"
      },
      "source": [
        "from pyspark.ml.evaluation import RegressionEvaluator\n",
        "from pyspark.ml.regression import DecisionTreeRegressor\n",
        "\n",
        "dt = DecisionTreeRegressor(featuresCol ='features_assem', labelCol = 'label')\n",
        "dt_model = dt.fit(trainingData)\n",
        "dt_predictions = dt_model.transform(testData)\n",
        "\n",
        "dt_evaluator = RegressionEvaluator(\n",
        "    labelCol=\"label\", predictionCol=\"prediction\", metricName=\"rmse\")\n",
        "rmse = dt_evaluator.evaluate(dt_predictions)\n",
        "print(\"Root Mean Squared Error (RMSE) on test data = %g\" % rmse)\n",
        "\n",
        "dt_evaluator = RegressionEvaluator(\n",
        "    labelCol=\"label\", predictionCol=\"prediction\", metricName=\"mae\")\n",
        "mae = dt_evaluator.evaluate(dt_predictions)\n",
        "print(\"Mean Absolute Error (MAE) on test data = %g\" % mae)"
      ],
      "execution_count": null,
      "outputs": [
        {
          "output_type": "stream",
          "name": "stdout",
          "text": [
            "Root Mean Squared Error (RMSE) on test data = 1.84667e+06\n",
            "Mean Absolute Error (MAE) on test data = 28308.1\n"
          ]
        }
      ]
    },
    {
      "cell_type": "markdown",
      "metadata": {
        "id": "vsiI9MFkfNo8"
      },
      "source": [
        "LinearRegression :"
      ]
    },
    {
      "cell_type": "code",
      "metadata": {
        "colab": {
          "base_uri": "https://localhost:8080/"
        },
        "id": "BAIHxlldenHX",
        "outputId": "30d566bd-a29a-4252-cc72-1ed35c1f7f53"
      },
      "source": [
        "from pyspark.ml.regression import LinearRegression\n",
        "\n",
        "lr = LinearRegression(featuresCol ='features_assem', labelCol = 'label')\n",
        "lr_model = lr.fit(trainingData)\n",
        "lr_predictions = lr_model.transform(testData)\n",
        "\n",
        "lr_evaluator = RegressionEvaluator(\n",
        "    labelCol=\"label\", predictionCol=\"prediction\", metricName=\"rmse\")\n",
        "rmse = lr_evaluator.evaluate(lr_predictions)\n",
        "print(\"Root Mean Squared Error (RMSE) on test data = %g\" % rmse)\n",
        "\n",
        "lr_evaluator = RegressionEvaluator(\n",
        "    labelCol=\"label\", predictionCol=\"prediction\", metricName=\"mae\")\n",
        "mae = lr_evaluator.evaluate(dt_predictions)\n",
        "print(\"Mean Absolute Error (MAE) on test data = %g\" % mae)"
      ],
      "execution_count": null,
      "outputs": [
        {
          "output_type": "stream",
          "name": "stdout",
          "text": [
            "Root Mean Squared Error (RMSE) on test data = 218.559\n",
            "Mean Absolute Error (MAE) on test data = 28308.1\n"
          ]
        }
      ]
    },
    {
      "cell_type": "markdown",
      "metadata": {
        "id": "zQEV1-qhhm7r"
      },
      "source": [
        "RandomForestRegressor :"
      ]
    },
    {
      "cell_type": "code",
      "metadata": {
        "colab": {
          "base_uri": "https://localhost:8080/"
        },
        "id": "JCj9aipvhS7O",
        "outputId": "9518dfa9-1b7d-49b6-e90f-ed559d9a95cc"
      },
      "source": [
        "from pyspark.ml.regression import RandomForestRegressor\n",
        "\n",
        "rf = RandomForestRegressor(featuresCol ='features_assem', labelCol = 'label')\n",
        "rf_model = rf.fit(trainingData)\n",
        "rf_predictions = rf_model.transform(testData)\n",
        "\n",
        "rf_evaluator = RegressionEvaluator(\n",
        "    labelCol=\"label\", predictionCol=\"prediction\", metricName=\"rmse\")\n",
        "rmse = rf_evaluator.evaluate(rf_predictions)\n",
        "print(\"Root Mean Squared Error (RMSE) on test data = %g\" % rmse)\n",
        "\n",
        "rf_evaluator = RegressionEvaluator(\n",
        "    labelCol=\"label\", predictionCol=\"prediction\", metricName=\"mae\")\n",
        "mae = rf_evaluator.evaluate(dt_predictions)\n",
        "print(\"Mean Absolute Error (MAE) on test data = %g\" % mae)"
      ],
      "execution_count": null,
      "outputs": [
        {
          "output_type": "stream",
          "name": "stdout",
          "text": [
            "Root Mean Squared Error (RMSE) on test data = 1.84785e+06\n",
            "Mean Absolute Error (MAE) on test data = 28308.1\n"
          ]
        }
      ]
    },
    {
      "cell_type": "markdown",
      "metadata": {
        "id": "AAulPLKViXnu"
      },
      "source": [
        "GBTRegressor :"
      ]
    },
    {
      "cell_type": "code",
      "metadata": {
        "colab": {
          "base_uri": "https://localhost:8080/"
        },
        "id": "HXSTLZuUiV_K",
        "outputId": "b8d12830-3e2a-4966-c672-2411bd6de98e"
      },
      "source": [
        "from pyspark.ml.regression import GBTRegressor\n",
        "\n",
        "gbt = GBTRegressor(featuresCol ='features_assem', labelCol = 'label')\n",
        "gbt_model = gbt.fit(trainingData)\n",
        "gbt_predictions = gbt_model.transform(testData)\n",
        "\n",
        "gbt_evaluator = RegressionEvaluator(\n",
        "    labelCol=\"label\", predictionCol=\"prediction\", metricName=\"rmse\")\n",
        "rmse = gbt_evaluator.evaluate(gbt_predictions)\n",
        "print(\"Root Mean Squared Error (RMSE) on test data = %g\" % rmse)\n",
        "\n",
        "gbt_evaluator = RegressionEvaluator(\n",
        "    labelCol=\"label\", predictionCol=\"prediction\", metricName=\"mae\")\n",
        "mae = gbt_evaluator.evaluate(dt_predictions)\n",
        "print(\"Mean Absolute Error (MAE) on test data = %g\" % mae)"
      ],
      "execution_count": null,
      "outputs": [
        {
          "output_type": "stream",
          "name": "stdout",
          "text": [
            "Root Mean Squared Error (RMSE) on test data = 1.84644e+06\n",
            "Mean Absolute Error (MAE) on test data = 28308.1\n"
          ]
        }
      ]
    },
    {
      "cell_type": "markdown",
      "metadata": {
        "id": "nuuLSyQwrRy_"
      },
      "source": [
        "## Cross Validation sur les modèles :"
      ]
    },
    {
      "cell_type": "code",
      "metadata": {
        "colab": {
          "base_uri": "https://localhost:8080/"
        },
        "id": "JR1RxL2fWTgh",
        "outputId": "a59ee752-1d6a-450f-b0ff-bb01ece2389a"
      },
      "source": [
        "from pyspark.ml.tuning import ParamGridBuilder, CrossValidator\n",
        "\n",
        "paramGrid = (ParamGridBuilder().build())\n",
        "cv = CrossValidator(estimator=dt, estimatorParamMaps=paramGrid, evaluator=dt_evaluator, numFolds=3)\n",
        "\n",
        "cvModel = cv.fit(trainingData)\n",
        "predictions = cvModel.transform(testData)\n",
        "dt_evaluator.evaluate(predictions)"
      ],
      "execution_count": null,
      "outputs": [
        {
          "output_type": "execute_result",
          "data": {
            "text/plain": [
              "28308.088370531368"
            ]
          },
          "metadata": {},
          "execution_count": 61
        }
      ]
    },
    {
      "cell_type": "code",
      "metadata": {
        "colab": {
          "base_uri": "https://localhost:8080/"
        },
        "id": "OeRIzKuUnrVr",
        "outputId": "f959d962-e682-456c-c182-1cae93569c86"
      },
      "source": [
        "paramGrid = (ParamGridBuilder().build())\n",
        "cv = CrossValidator(estimator=lr, estimatorParamMaps=paramGrid, evaluator=lr_evaluator, numFolds=3)\n",
        "\n",
        "cvModel = cv.fit(trainingData)\n",
        "predictions = cvModel.transform(testData)\n",
        "lr_evaluator.evaluate(predictions)"
      ],
      "execution_count": null,
      "outputs": [
        {
          "output_type": "execute_result",
          "data": {
            "text/plain": [
              "8.507243048608714"
            ]
          },
          "metadata": {},
          "execution_count": 62
        }
      ]
    },
    {
      "cell_type": "code",
      "metadata": {
        "colab": {
          "base_uri": "https://localhost:8080/"
        },
        "id": "jpFEg2uBn0Es",
        "outputId": "90560677-be72-4e8b-bed0-1e07c6670070"
      },
      "source": [
        "paramGrid = (ParamGridBuilder().build())\n",
        "cv = CrossValidator(estimator=rf, estimatorParamMaps=paramGrid, evaluator=rf_evaluator, numFolds=3)\n",
        "\n",
        "cvModel = cv.fit(trainingData)\n",
        "predictions = cvModel.transform(testData)\n",
        "rf_evaluator.evaluate(predictions)"
      ],
      "execution_count": null,
      "outputs": [
        {
          "output_type": "execute_result",
          "data": {
            "text/plain": [
              "29984.583247890656"
            ]
          },
          "metadata": {},
          "execution_count": 63
        }
      ]
    },
    {
      "cell_type": "code",
      "metadata": {
        "colab": {
          "base_uri": "https://localhost:8080/"
        },
        "id": "RXv8x7Cnn7j3",
        "outputId": "c2bef4af-03d6-4759-a889-4caac79e2fb7"
      },
      "source": [
        "paramGrid = (ParamGridBuilder().build())\n",
        "cv = CrossValidator(estimator=gbt, estimatorParamMaps=paramGrid, evaluator=gbt_evaluator, numFolds=3)\n",
        "\n",
        "cvModel = cv.fit(trainingData)\n",
        "predictions = cvModel.transform(testData)\n",
        "gbt_evaluator.evaluate(predictions)"
      ],
      "execution_count": null,
      "outputs": [
        {
          "output_type": "execute_result",
          "data": {
            "text/plain": [
              "28314.921824989917"
            ]
          },
          "metadata": {},
          "execution_count": 64
        }
      ]
    },
    {
      "cell_type": "code",
      "metadata": {
        "colab": {
          "base_uri": "https://localhost:8080/"
        },
        "id": "gTh9YgH9vm3g",
        "outputId": "23c993f6-4c3d-4618-98b4-10bbdf996ed0"
      },
      "source": [
        "train_lists.select('label').describe().show()"
      ],
      "execution_count": null,
      "outputs": [
        {
          "output_type": "stream",
          "name": "stdout",
          "text": [
            "+-------+------------------+\n",
            "|summary|             label|\n",
            "+-------+------------------+\n",
            "|  count|             14750|\n",
            "|   mean|22088.493491525423|\n",
            "| stddev|1016489.1013603178|\n",
            "|    min|                 5|\n",
            "|    max|         123456789|\n",
            "+-------+------------------+\n",
            "\n"
          ]
        }
      ]
    },
    {
      "cell_type": "markdown",
      "metadata": {
        "id": "eCdALwqiwi8k"
      },
      "source": [
        "# Conclusion"
      ]
    },
    {
      "cell_type": "markdown",
      "metadata": {
        "id": "RQawDnfMtEAS"
      },
      "source": [
        "En comparant les valeurs des métriques et de la cross validation des différents modéles de prédictions, avec la moyenne et l'écart type de la liste des prix des voitures, nous pouvons dire que le meilleur modèle de prédiction est le LinearRegression dans notre cas.\n",
        "\n",
        "\n",
        "La précision de nos prédiction est également due au choix des features que nous avons sélectionnés. Cependant, d'autres combinaisons auraient été possibles. \n"
      ]
    }
  ]
}